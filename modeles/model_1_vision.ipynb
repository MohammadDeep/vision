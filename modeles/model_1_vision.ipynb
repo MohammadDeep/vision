{
  "nbformat": 4,
  "nbformat_minor": 0,
  "metadata": {
    "colab": {
      "provenance": [],
      "authorship_tag": "ABX9TyPrLrO4xyBrZgdXd0clJJ+E",
      "include_colab_link": true
    },
    "kernelspec": {
      "name": "python3",
      "display_name": "Python 3"
    },
    "language_info": {
      "name": "python"
    }
  },
  "cells": [
    {
      "cell_type": "markdown",
      "metadata": {
        "id": "view-in-github",
        "colab_type": "text"
      },
      "source": [
        "<a href=\"https://colab.research.google.com/github/MohammadDeep/vision/blob/main/modeles/model_1_vision.ipynb\" target=\"_parent\"><img src=\"https://colab.research.google.com/assets/colab-badge.svg\" alt=\"Open In Colab\"/></a>"
      ]
    },
    {
      "cell_type": "markdown",
      "metadata": {
        "id": "11mMhZ5YiZgT"
      },
      "source": [
        "# model_1"
      ]
    },
    {
      "cell_type": "code",
      "execution_count": null,
      "metadata": {
        "id": "e5vMbtllgFEh"
      },
      "outputs": [],
      "source": [
        "import torch\n",
        "from torch import nn\n",
        "from torchvision import models, transforms\n",
        "from torch.utils.data import DataLoader\n",
        "from torchvision.datasets import ImageFolder\n",
        "import torch.optim as optim\n",
        "\n",
        "# 1. بارگذاری مدل پیش‌آموزش‌دیده SqueezeNet\n",
        "model_1 = models.squeezenet1_1(pretrained=True)\n",
        "\n",
        "# 2. تغییر لایه آخر مدل به یک نود (برای باینری: وجود یا عدم وجود انسان)\n",
        "model_1.classifier[1] = nn.Conv2d(512, 1, kernel_size=(1, 1), stride=(1, 1))\n",
        "\n",
        "# اضافه کردن Softmax برای تبدیل خروجی به احتمال باینری\n",
        "# این مرحله در اینجا مورد نیاز نیست، چون BCEWithLogitsLoss به‌طور داخلی سیگموید را اعمال می‌کند.\n",
        "\n",
        "model_1.classifier = nn.Sequential(\n",
        "    model_1.classifier[0],\n",
        "    model_1.classifier[1],\n",
        "    nn.Conv2d(in_channels=1, out_channels=1, kernel_size=13, stride=1, padding=0),\n",
        "    #nn.AdaptiveAvgPool2d(1),\n",
        "    nn.Flatten()\n",
        ")\n",
        "for param in model_1.features.parameters():\n",
        "    param.requires_grad = False  # غیرفعال کردن آموزش برای لایه‌های اولیه\n"
      ]
    },
    {
      "cell_type": "code",
      "execution_count": null,
      "metadata": {
        "id": "h1BoXblfiq6T"
      },
      "outputs": [],
      "source": [
        "# بررسی اینکه آیا GPU موجود است یا نه\n",
        "device = torch.device(\"cuda\" if torch.cuda.is_available() else \"cpu\")\n",
        "\n",
        "# انتقال مدل به دستگاه (GPU یا CPU)\n",
        "model_1.to(device)\n",
        "\n",
        "\n",
        "# نمایش خلاصه مدل\n",
        "from torchsummary import summary\n",
        "summary(model_1, (3, 224, 224))  # برای ورودی‌های 64x64 پیکسل با 3 کانال رنگ\n"
      ]
    },
    {
      "cell_type": "markdown",
      "metadata": {
        "id": "XHEFa106BFxc"
      },
      "source": [
        "## transform and dataloaber"
      ]
    },
    {
      "cell_type": "code",
      "execution_count": null,
      "metadata": {
        "id": "6TZ3MjcMkNBo"
      },
      "outputs": [],
      "source": [
        "from torchvision import datasets, transforms\n",
        "# 4. آماده‌سازی داده‌ها\n",
        "transform = transforms.Compose([\n",
        "    transforms.RandomAffine(degrees=30, translate=(0.1, 0.1), scale=(0.8, 1.2), shear=10),\n",
        "    transforms.ColorJitter(brightness=0.2, contrast=0.2, saturation=0.2, hue=0.1),\n",
        "    transforms.Resize((224, 224)),   # تغییر اندازه به ورودی مدل\n",
        "    transforms.ToTensor(),\n",
        "    transforms.Normalize(mean=[0.485, 0.456, 0.406], std=[0.229, 0.224, 0.225])\n",
        "])\n",
        "\n",
        "\n",
        "BATCH_SIZE = 2 ** 7\n",
        "# ImageFolder دو کلاس را 0 و 1 نگاشت می‌کند\n",
        "dataset_val = datasets.ImageFolder(root=dir_folber_val, transform=transform)\n",
        "dataloader_val = DataLoader(dataset_val, batch_size=BATCH_SIZE, shuffle=True, num_workers=4, pin_memory=True)\n",
        "\n",
        "print(dataset_val.class_to_idx)\n",
        "\n",
        "# e.g. {'negative': 0, 'positive': 1}\n",
        "# ImageFolder دو کلاس را 0 و 1 نگاشت می‌کند\n",
        "dataset_train = datasets.ImageFolder(root=dir_folber_train, transform=transform)\n",
        "dataloader_train = DataLoader(dataset_train, batch_size=BATCH_SIZE, shuffle=True, num_workers=4, pin_memory=True)\n",
        "\n",
        "print(dataset_train.class_to_idx)"
      ]
    },
    {
      "cell_type": "markdown",
      "metadata": {
        "id": "zJwAe56RBXn1"
      },
      "source": [
        "## loss and optimiser"
      ]
    },
    {
      "cell_type": "code",
      "execution_count": null,
      "metadata": {
        "id": "NcRKgVtWj-ZL"
      },
      "outputs": [],
      "source": [
        "\n",
        "# 3. تعریف تابع از دست دادن (Loss) و بهینه‌ساز\n",
        "# استفاده از BCEWithLogitsLoss که برای خروجی باینری سیگموید استفاده می‌شود\n",
        "loss_function_1 = nn.BCEWithLogitsLoss()  # این تابع از سیگموید به‌طور داخلی استفاده می‌کند\n",
        "optimizer_1 = optim.Adam(model_1.parameters(), lr=0.001)\n",
        "\n",
        "\n"
      ]
    },
    {
      "cell_type": "markdown",
      "metadata": {
        "id": "a8pNUZjZByku"
      },
      "source": [
        "## training"
      ]
    },
    {
      "cell_type": "code",
      "execution_count": null,
      "metadata": {
        "id": "DC41bYXKiyAx"
      },
      "outputs": [],
      "source": [
        "model_1_results = train(model=model_1,\n",
        "                        train_dataloader=dataloader_train,\n",
        "                        test_dataloader=dataloader_val,\n",
        "                        optimizer=optimizer_1,\n",
        "                        loss_fn=loss_function_1,\n",
        "                        epochs = 1,\n",
        "                        number_ep = 100)"
      ]
    }
  ]
}