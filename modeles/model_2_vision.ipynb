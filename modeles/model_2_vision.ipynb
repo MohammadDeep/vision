{
  "nbformat": 4,
  "nbformat_minor": 0,
  "metadata": {
    "colab": {
      "provenance": [],
      "authorship_tag": "ABX9TyMPFcL8/rCKivgu4huHuMMa",
      "include_colab_link": true
    },
    "kernelspec": {
      "name": "python3",
      "display_name": "Python 3"
    },
    "language_info": {
      "name": "python"
    }
  },
  "cells": [
    {
      "cell_type": "markdown",
      "metadata": {
        "id": "view-in-github",
        "colab_type": "text"
      },
      "source": [
        "<a href=\"https://colab.research.google.com/github/MohammadDeep/vision/blob/main/modeles/model_2_vision.ipynb\" target=\"_parent\"><img src=\"https://colab.research.google.com/assets/colab-badge.svg\" alt=\"Open In Colab\"/></a>"
      ]
    },
    {
      "cell_type": "markdown",
      "metadata": {
        "id": "gZVuiztSGUYA"
      },
      "source": [
        "# model_2\n"
      ]
    },
    {
      "cell_type": "code",
      "execution_count": null,
      "metadata": {
        "id": "PZqYGZvxFOnZ"
      },
      "outputs": [],
      "source": [
        "import torch\n",
        "from torch import nn\n",
        "from torchvision import models, transforms\n",
        "from torch.utils.data import DataLoader\n",
        "from torchvision.datasets import ImageFolder\n",
        "import torch.optim as optim\n",
        "\n",
        "# 1. بارگذاری مدل پیش‌آموزش‌دیده SqueezeNet\n",
        "model_2 = models.squeezenet1_1(pretrained=True)\n",
        "\n",
        "# 2. تغییر لایه آخر مدل به یک نود (برای باینری: وجود یا عدم وجود انسان)\n",
        "model_2.classifier[1] = nn.Conv2d(512, 1, kernel_size=(1, 1), stride=(1, 1))\n",
        "\n",
        "# اضافه کردن Softmax برای تبدیل خروجی به احتمال باینری\n",
        "# این مرحله در اینجا مورد نیاز نیست، چون BCEWithLogitsLoss به‌طور داخلی سیگموید را اعمال می‌کند.\n",
        "\n",
        "model_2.classifier = nn.Sequential(\n",
        "    model_2.classifier[0],\n",
        "    model_2.classifier[1],\n",
        "    nn.Conv2d(in_channels=1, out_channels=1, kernel_size=13, stride=1, padding=0),\n",
        "    nn.Flatten()\n",
        ")\n",
        "for param in model_2.features[:10].parameters():\n",
        "    param.requires_grad = False  # غیرفعال کردن آموزش برای لایه‌های اولیه\n"
      ]
    },
    {
      "cell_type": "code",
      "execution_count": null,
      "metadata": {
        "id": "_CfWXu0Cr5Pw"
      },
      "outputs": [],
      "source": [
        "\n",
        "class HumanPresenceSqueezeNet(nn.Module):\n",
        "    def __init__(self, pretrained=True, freeze_features_up_to=10):\n",
        "        super(HumanPresenceSqueezeNet, self).__init__()\n",
        "        # 1. بارگذاری SqueezeNet پیش‌آموزش‌دیده\n",
        "        self.backbone = models.squeezenet1_1(pretrained=pretrained)\n",
        "\n",
        "        # 2. تغییر لایه خروجی برای باینری (یک نود)\n",
        "        #    توجه: classifier در SqueezeNet یک Sequential با دو لایه‌ است\n",
        "        self.backbone.classifier[1] = nn.Conv2d(512, 1, kernel_size=1, stride=1)\n",
        "        #    اضافه کردن Conv نهایی و Flatten\n",
        "        self.backbone.classifier = nn.Sequential(\n",
        "            self.backbone.classifier[0],    # Dropout\n",
        "            self.backbone.classifier[1],    # Conv2d(512→1)\n",
        "            nn.Conv2d(1, 1, kernel_size=13, stride=1, padding=0),\n",
        "            nn.Flatten()\n",
        "        )\n",
        "\n",
        "        # 3. فریز کردن لایه‌های ابتدایی (تا شماره freeze_features_up_to)\n",
        "        for param in self.backbone.features[:freeze_features_up_to].parameters():\n",
        "            param.requires_grad = False\n",
        "\n",
        "    def forward(self, x):\n",
        "        \"\"\"\n",
        "        x: Tensor شکل (B, C, H, W)\n",
        "        خروجی: Tensor شکل (B,) یا (B, 1) بسته به نیاز شما؛\n",
        "                 مقادیر logits برای BCEWithLogitsLoss\n",
        "        \"\"\"\n",
        "        y = self.backbone(x)\n",
        "        return y\n",
        "model_nn = HumanPresenceSqueezeNet().to('cuda')\n",
        "summary(model_nn, (3, 224, 224))"
      ]
    },
    {
      "cell_type": "code",
      "execution_count": null,
      "metadata": {
        "id": "6RTBRn9JsvcT"
      },
      "outputs": [],
      "source": [
        "import torch\n",
        "from torch import nn\n",
        "from torchvision import models\n",
        "\n",
        "class HumanPresenceSqueezeNet(nn.Module):\n",
        "    def __init__(self,\n",
        "                 weights=models.SqueezeNet1_1_Weights.DEFAULT,\n",
        "                 freeze_features_up_to=10,\n",
        "                 remove_last_layers=1):\n",
        "        super().__init__()\n",
        "        # --- 1) بارگذاری پیش‌آموزش‌دیده ---\n",
        "        base = models.squeezenet1_1(weights=weights)\n",
        "\n",
        "        # --- 2) تغییر لایه‌ی خروجی به باینری ---\n",
        "        # جایگزینی Conv2d(512→1)\n",
        "        base.classifier[1] = nn.Conv2d(512, 1, kernel_size=1, stride=1)\n",
        "        clf = nn.Sequential(\n",
        "            base.classifier[0],    # Dropout\n",
        "            base.classifier[1],    # Conv2d(512→1)\n",
        "            nn.Conv2d(1, 1, kernel_size=13, padding=0),\n",
        "            nn.Flatten()\n",
        "        )\n",
        "        # حذف آخرین لایه(ها) اگر خواستید\n",
        "        if remove_last_layers > 0:\n",
        "            modules = list(clf.children())[:-remove_last_layers]\n",
        "            clf = nn.Sequential(*modules)\n",
        "\n",
        "        # --- 3) فریز کردن لایه‌های ابتدایی ---\n",
        "        for param in base.features[:freeze_features_up_to].parameters():\n",
        "            param.requires_grad = False\n",
        "\n",
        "        # --- 4) انتساب مستقیم به اتریبیوت‌ها ---\n",
        "        self.features   = base.features\n",
        "        self.classifier = clf\n",
        "\n",
        "    def forward(self, x):\n",
        "        x = self.features(x)      # (B,512,13,13)\n",
        "        x = self.classifier(x)    # (B,1) یا (B,1,1,1) بسته به حذف لایه‌ها\n",
        "        return x\n",
        "\n",
        "# مثال و проверка summary\n",
        "model = HumanPresenceSqueezeNet(remove_last_layers=0).to('cuda')\n",
        "\n",
        "summary(model, (3, 224, 224))\n"
      ]
    },
    {
      "cell_type": "code",
      "execution_count": null,
      "metadata": {
        "id": "Z8F1YpkcFOnZ"
      },
      "outputs": [],
      "source": [
        "# بررسی اینکه آیا GPU موجود است یا نه\n",
        "device = torch.device(\"cuda\" if torch.cuda.is_available() else \"cpu\")\n",
        "\n",
        "# انتقال مدل به دستگاه (GPU یا CPU)\n",
        "model_2.to(device)\n",
        "\n",
        "\n",
        "# نمایش خلاصه مدل\n",
        "from torchsummary import summary\n",
        "summary(model_2, (3, 224, 224))  # برای ورودی‌های 64x64 پیکسل با 3 کانال رنگ\n"
      ]
    },
    {
      "cell_type": "markdown",
      "metadata": {
        "id": "ZOeyqwFtFOna"
      },
      "source": [
        "## transform and dataloaber"
      ]
    },
    {
      "cell_type": "code",
      "execution_count": null,
      "metadata": {
        "id": "MJ8aI8oYfUOj"
      },
      "outputs": [],
      "source": [
        "dir_folber_val = '/content/data_set/val_dataset'\n",
        "dir_folber_train = '/content/data_set/train_dataset'\n",
        "tree_directory_images(dir_folber_val)\n",
        "tree_directory_images(dir_folber_train)"
      ]
    },
    {
      "cell_type": "code",
      "execution_count": null,
      "metadata": {
        "id": "gQ5jnHw0nZE3"
      },
      "outputs": [],
      "source": [
        "transform_val = transforms.Compose([\n",
        "    #transforms.RandomAffine(degrees=30, translate=(0.1, 0.1), scale=(0.8, 1.2), shear=10),\n",
        "    #transforms.ColorJitter(brightness=0.2, contrast=0.2, saturation=0.2, hue=0.1),\n",
        "    transforms.Resize((224, 224)),   # تغییر اندازه به ورودی مدل\n",
        "    transforms.ToTensor(),\n",
        "    transforms.Normalize(mean=[0.485, 0.456, 0.406], std=[0.229, 0.224, 0.225])\n",
        "])\n",
        "\n",
        "BATCH_SIZE = 2 ** 7\n",
        "# ImageFolder دو کلاس را 0 و 1 نگاشت می‌کند\n",
        "dataset_val = datasets.ImageFolder(root=dir_folber_val, transform=transform_val)\n",
        "dataloader_val = DataLoader(dataset_val, batch_size=BATCH_SIZE, shuffle=False, num_workers=4, pin_memory=True)\n",
        "print(dataset_val.class_to_idx)"
      ]
    },
    {
      "cell_type": "code",
      "execution_count": null,
      "metadata": {
        "id": "iJzly3ZmFOna"
      },
      "outputs": [],
      "source": [
        "from torchvision import datasets, transforms\n",
        "# 4. آماده‌سازی داده‌ها\n",
        "transform = transforms.Compose([\n",
        "    transforms.RandomAffine(degrees=30, translate=(0.1, 0.1), scale=(0.8, 1.2), shear=10),\n",
        "    transforms.ColorJitter(brightness=0.2, contrast=0.2, saturation=0.2, hue=0.1),\n",
        "    transforms.Resize((224, 224)),   # تغییر اندازه به ورودی مدل\n",
        "    transforms.ToTensor(),\n",
        "    transforms.Normalize(mean=[0.485, 0.456, 0.406], std=[0.229, 0.224, 0.225])\n",
        "])\n",
        "\n",
        "\n",
        "\n",
        "\n",
        "\n",
        "\n",
        "# e.g. {'negative': 0, 'positive': 1}\n",
        "# ImageFolder دو کلاس را 0 و 1 نگاشت می‌کند\n",
        "dataset_train = datasets.ImageFolder(root=dir_folber_train, transform=transform)\n",
        "dataloader_train = DataLoader(dataset_train, batch_size=BATCH_SIZE, shuffle=True, num_workers=4, pin_memory=True)\n",
        "\n",
        "print(dataset_train.class_to_idx)"
      ]
    },
    {
      "cell_type": "markdown",
      "metadata": {
        "id": "Slk0W_-cFOna"
      },
      "source": [
        "## loss and optimiser"
      ]
    },
    {
      "cell_type": "code",
      "execution_count": null,
      "metadata": {
        "id": "c96rA2JXFOna"
      },
      "outputs": [],
      "source": [
        "\n",
        "# 3. تعریف تابع از دست دادن (Loss) و بهینه‌ساز\n",
        "# استفاده از BCEWithLogitsLoss که برای خروجی باینری سیگموید استفاده می‌شود\n",
        "loss_function_1 = nn.BCEWithLogitsLoss()  # این تابع از سیگموید به‌طور داخلی استفاده می‌کند\n",
        "optimizer_1 = optim.Adam(model_2.parameters(), lr=0.00001)\n",
        "\n",
        "\n"
      ]
    },
    {
      "cell_type": "markdown",
      "metadata": {
        "id": "U3HlzUG0FOna"
      },
      "source": [
        "## training"
      ]
    },
    {
      "cell_type": "code",
      "execution_count": null,
      "metadata": {
        "id": "vgSpYioeFOna"
      },
      "outputs": [],
      "source": [
        "model_2_results = train(model=model_2,\n",
        "                        train_dataloader=dataloader_train,\n",
        "                        test_dataloader=dataloader_val,\n",
        "                        optimizer=optimizer_1,\n",
        "                        loss_fn=loss_function_1,\n",
        "                        epochs = 10\n",
        "                        , number_ep = int(925 // 2) + 1 )"
      ]
    },
    {
      "cell_type": "code",
      "execution_count": null,
      "metadata": {
        "id": "MDwBYZgVtbwk"
      },
      "outputs": [],
      "source": [
        "import torch\n",
        "from torch import nn\n",
        "from torchvision import models\n",
        "\n",
        "class HumanPresenceSqueezeNet(nn.Module):\n",
        "    def __init__(self,\n",
        "                 pretrained=True,\n",
        "                 weights=models.SqueezeNet1_1_Weights.DEFAULT,\n",
        "                 freeze_features_up_to=10):\n",
        "        super().__init__()\n",
        "        # 1) بارگذاری backbone با API جدید weights\n",
        "        base = models.squeezenet1_1(pretrained =pretrained)\n",
        "\n",
        "        # 2) ساخت classifier جدید شامل Dropout → Conv2d → Conv2d → Flatten\n",
        "        #    خروجی نهایی پس از Flatten می‌شود (B, 1)\n",
        "        self.classifier = nn.Sequential(\n",
        "            base.classifier[0],                             # Dropout\n",
        "            nn.Conv2d(512, 1, kernel_size=1, stride=1),     # جایگزینی لایه\n",
        "            nn.Conv2d(1, 1, kernel_size=13, stride=1),      # همانی که قبل داشتید\n",
        "            nn.Flatten()                                     # <<< این‌جا flatten!\n",
        "        )\n",
        "\n",
        "        # 3) فریز کردن لایه‌های ابتدایی features\n",
        "        self.features = base.features\n",
        "        for p in list(self.features.parameters())[:freeze_features_up_to]:\n",
        "            p.requires_grad = False\n",
        "\n",
        "    def forward(self, x):\n",
        "        x = self.features(x)      # (B,512,13,13)\n",
        "        x = self.classifier(x)    # (B,1) پس از Flatten\n",
        "        return x\n",
        "\n",
        "\n",
        "# مثال و проверка summary\n",
        "model = HumanPresenceSqueezeNet().to('cuda')\n",
        "\n",
        "summary(model, (3, 224, 224))\n"
      ]
    },
    {
      "cell_type": "markdown",
      "metadata": {
        "id": "c3EhZckiIX3M"
      },
      "source": [
        "## model_2_2th"
      ]
    },
    {
      "cell_type": "code",
      "execution_count": null,
      "metadata": {
        "id": "1js_h-VmvSvU"
      },
      "outputs": [],
      "source": [
        "model_2_2th = load_model(HumanPresenceSqueezeNet,\n",
        "                   '/content/drive/MyDrive/model_2_1th.pth',\n",
        "                   device='cuda'\n",
        "                   #,strict=False\n",
        "                         )"
      ]
    },
    {
      "cell_type": "code",
      "execution_count": null,
      "metadata": {
        "id": "r8it_2AY-Fu9"
      },
      "outputs": [],
      "source": [
        "test_step(model = model_2_2th,\n",
        "              dataloader = dataloader_val,\n",
        "              loss_fn =loss_function_1,\n",
        "              show_plot_and_F1 = True )"
      ]
    },
    {
      "cell_type": "code",
      "execution_count": null,
      "metadata": {
        "id": "3TU2IllDbZ8Q"
      },
      "outputs": [],
      "source": [
        "len(dataset_val)"
      ]
    },
    {
      "cell_type": "code",
      "execution_count": null,
      "metadata": {
        "id": "2BCUHtxtoXWY"
      },
      "outputs": [],
      "source": [
        "plot_random_samples(model=model_2_2th,\n",
        "                    test_dataset=dataset_val,\n",
        "                    num_samples=1000,\n",
        "                     show_images = 'all F' # 'all' or 'TT' or 'FF' or 'FT' or 'TF' or 'all T' or 'all F'\n",
        "                    )"
      ]
    },
    {
      "cell_type": "code",
      "execution_count": null,
      "metadata": {
        "id": "tq3MUIPKvYuR"
      },
      "outputs": [],
      "source": [
        "for param in model_2_2th.features.parameters():\n",
        "    param.requires_grad = True  # غیرفعال کردن آموزش برای لایه‌های اولیه\n",
        "for param in model_2_2th.features[:5].parameters():\n",
        "    param.requires_grad = False  # غیرفعال کردن آموزش برای لایه‌های اولیه\n",
        "summary(model_2_2th, (3, 224, 224))"
      ]
    },
    {
      "cell_type": "code",
      "execution_count": null,
      "metadata": {
        "id": "4vrGWH90JFl-"
      },
      "outputs": [],
      "source": [
        "# 3. تعریف تابع از دست دادن (Loss) و بهینه‌ساز\n",
        "# استفاده از BCEWithLogitsLoss که برای خروجی باینری سیگموید استفاده می‌شود\n",
        "loss_function_1 = nn.BCEWithLogitsLoss()  # این تابع از سیگموید به‌طور داخلی استفاده می‌کند\n",
        "optimizer_1 = optim.Adam(model_2_2th.parameters(), lr=0.00001)\n",
        "\n"
      ]
    },
    {
      "cell_type": "code",
      "execution_count": null,
      "metadata": {
        "id": "4saBdLb6JJSF"
      },
      "outputs": [],
      "source": [
        "model_2_results_2th = train(model=model_2_2th,\n",
        "                        train_dataloader=dataloader_train,\n",
        "                        test_dataloader=dataloader_val,\n",
        "                        optimizer=optimizer_1,\n",
        "                        loss_fn=loss_function_1,\n",
        "                        epochs = 5\n",
        "                        , number_ep = int(925 // 2) + 1,\n",
        "                        results = model_2_results)"
      ]
    },
    {
      "cell_type": "code",
      "execution_count": null,
      "metadata": {
        "id": "tJJV4GdEau3f"
      },
      "outputs": [],
      "source": [
        "optimizer_1 = optim.Adam(model_2_2th.parameters(), lr=0.0001)"
      ]
    },
    {
      "cell_type": "code",
      "execution_count": null,
      "metadata": {
        "id": "_AJREz4vLzk2"
      },
      "outputs": [],
      "source": [
        "model_2_results_2th = train(model=model_2_2th,\n",
        "                        train_dataloader=dataloader_train,\n",
        "                        test_dataloader=dataloader_val,\n",
        "                        optimizer=optimizer_1,\n",
        "                        loss_fn=loss_function_1,\n",
        "                        epochs = 5\n",
        "                        , number_ep = int(925 // 2) + 1,\n",
        "                        results = model_2_results_2th)"
      ]
    },
    {
      "cell_type": "code",
      "execution_count": null,
      "metadata": {
        "id": "O55buUgVEWv9"
      },
      "outputs": [],
      "source": [
        "save_models_historyes(\n",
        "    model_2_2th,\n",
        "    model_2_results_2th,\n",
        "    '/content/drive/MyDrive',\n",
        "    'model_2_2th',\n",
        "    )"
      ]
    },
    {
      "cell_type": "markdown",
      "metadata": {
        "id": "JsCuVn3rfHyo"
      },
      "source": [
        "## model_2_3th"
      ]
    },
    {
      "cell_type": "markdown",
      "metadata": {
        "id": "pNEhK19Rd3l0"
      },
      "source": [
        "## loabe model_2_3th"
      ]
    },
    {
      "cell_type": "code",
      "execution_count": null,
      "metadata": {
        "colab": {
          "base_uri": "https://localhost:8080/"
        },
        "id": "lJnJAfGg5etR",
        "outputId": "42b1c040-b70f-4dcd-e8a2-b7f283e331b8"
      },
      "outputs": [
        {
          "name": "stdout",
          "output_type": "stream",
          "text": [
            "Requirement already satisfied: torchsummary in /usr/local/lib/python3.11/dist-packages (1.5.1)\n"
          ]
        }
      ],
      "source": [
        "!pip install torchsummary"
      ]
    },
    {
      "cell_type": "code",
      "execution_count": null,
      "metadata": {
        "colab": {
          "base_uri": "https://localhost:8080/"
        },
        "id": "P3lRsUHk5U_D",
        "outputId": "0215a83f-d1f4-4083-aca2-d450dcc4cca7"
      },
      "outputs": [
        {
          "name": "stdout",
          "output_type": "stream",
          "text": [
            "----------------------------------------------------------------\n",
            "        Layer (type)               Output Shape         Param #\n",
            "================================================================\n",
            "            Conv2d-1         [-1, 64, 111, 111]           1,792\n",
            "              ReLU-2         [-1, 64, 111, 111]               0\n",
            "         MaxPool2d-3           [-1, 64, 55, 55]               0\n",
            "            Conv2d-4           [-1, 16, 55, 55]           1,040\n",
            "              ReLU-5           [-1, 16, 55, 55]               0\n",
            "            Conv2d-6           [-1, 64, 55, 55]           1,088\n",
            "              ReLU-7           [-1, 64, 55, 55]               0\n",
            "            Conv2d-8           [-1, 64, 55, 55]           9,280\n",
            "              ReLU-9           [-1, 64, 55, 55]               0\n",
            "             Fire-10          [-1, 128, 55, 55]               0\n",
            "           Conv2d-11           [-1, 16, 55, 55]           2,064\n",
            "             ReLU-12           [-1, 16, 55, 55]               0\n",
            "           Conv2d-13           [-1, 64, 55, 55]           1,088\n",
            "             ReLU-14           [-1, 64, 55, 55]               0\n",
            "           Conv2d-15           [-1, 64, 55, 55]           9,280\n",
            "             ReLU-16           [-1, 64, 55, 55]               0\n",
            "             Fire-17          [-1, 128, 55, 55]               0\n",
            "        MaxPool2d-18          [-1, 128, 27, 27]               0\n",
            "           Conv2d-19           [-1, 32, 27, 27]           4,128\n",
            "             ReLU-20           [-1, 32, 27, 27]               0\n",
            "           Conv2d-21          [-1, 128, 27, 27]           4,224\n",
            "             ReLU-22          [-1, 128, 27, 27]               0\n",
            "           Conv2d-23          [-1, 128, 27, 27]          36,992\n",
            "             ReLU-24          [-1, 128, 27, 27]               0\n",
            "             Fire-25          [-1, 256, 27, 27]               0\n",
            "           Conv2d-26           [-1, 32, 27, 27]           8,224\n",
            "             ReLU-27           [-1, 32, 27, 27]               0\n",
            "           Conv2d-28          [-1, 128, 27, 27]           4,224\n",
            "             ReLU-29          [-1, 128, 27, 27]               0\n",
            "           Conv2d-30          [-1, 128, 27, 27]          36,992\n",
            "             ReLU-31          [-1, 128, 27, 27]               0\n",
            "             Fire-32          [-1, 256, 27, 27]               0\n",
            "        MaxPool2d-33          [-1, 256, 13, 13]               0\n",
            "           Conv2d-34           [-1, 48, 13, 13]          12,336\n",
            "             ReLU-35           [-1, 48, 13, 13]               0\n",
            "           Conv2d-36          [-1, 192, 13, 13]           9,408\n",
            "             ReLU-37          [-1, 192, 13, 13]               0\n",
            "           Conv2d-38          [-1, 192, 13, 13]          83,136\n",
            "             ReLU-39          [-1, 192, 13, 13]               0\n",
            "             Fire-40          [-1, 384, 13, 13]               0\n",
            "           Conv2d-41           [-1, 48, 13, 13]          18,480\n",
            "             ReLU-42           [-1, 48, 13, 13]               0\n",
            "           Conv2d-43          [-1, 192, 13, 13]           9,408\n",
            "             ReLU-44          [-1, 192, 13, 13]               0\n",
            "           Conv2d-45          [-1, 192, 13, 13]          83,136\n",
            "             ReLU-46          [-1, 192, 13, 13]               0\n",
            "             Fire-47          [-1, 384, 13, 13]               0\n",
            "           Conv2d-48           [-1, 64, 13, 13]          24,640\n",
            "             ReLU-49           [-1, 64, 13, 13]               0\n",
            "           Conv2d-50          [-1, 256, 13, 13]          16,640\n",
            "             ReLU-51          [-1, 256, 13, 13]               0\n",
            "           Conv2d-52          [-1, 256, 13, 13]         147,712\n",
            "             ReLU-53          [-1, 256, 13, 13]               0\n",
            "             Fire-54          [-1, 512, 13, 13]               0\n",
            "           Conv2d-55           [-1, 64, 13, 13]          32,832\n",
            "             ReLU-56           [-1, 64, 13, 13]               0\n",
            "           Conv2d-57          [-1, 256, 13, 13]          16,640\n",
            "             ReLU-58          [-1, 256, 13, 13]               0\n",
            "           Conv2d-59          [-1, 256, 13, 13]         147,712\n",
            "             ReLU-60          [-1, 256, 13, 13]               0\n",
            "             Fire-61          [-1, 512, 13, 13]               0\n",
            "          Dropout-62          [-1, 512, 13, 13]               0\n",
            "           Conv2d-63            [-1, 1, 13, 13]             513\n",
            "           Conv2d-64              [-1, 1, 1, 1]             170\n",
            "          Flatten-65                    [-1, 1]               0\n",
            "================================================================\n",
            "Total params: 723,179\n",
            "Trainable params: 707,915\n",
            "Non-trainable params: 15,264\n",
            "----------------------------------------------------------------\n",
            "Input size (MB): 0.57\n",
            "Forward/backward pass size (MB): 51.18\n",
            "Params size (MB): 2.76\n",
            "Estimated Total Size (MB): 54.51\n",
            "----------------------------------------------------------------\n"
          ]
        }
      ],
      "source": [
        "import torch\n",
        "from torch import nn\n",
        "from torchvision import models\n",
        "from torchsummary import summary\n",
        "class HumanPresenceSqueezeNet(nn.Module):\n",
        "    def __init__(self,\n",
        "                 pretrained=True,\n",
        "                 weights=models.SqueezeNet1_1_Weights.DEFAULT,\n",
        "                 freeze_features_up_to=10):\n",
        "        super().__init__()\n",
        "        # 1) بارگذاری backbone با API جدید weights\n",
        "        base = models.squeezenet1_1(pretrained =pretrained)\n",
        "\n",
        "        # 2) ساخت classifier جدید شامل Dropout → Conv2d → Conv2d → Flatten\n",
        "        #    خروجی نهایی پس از Flatten می‌شود (B, 1)\n",
        "        self.classifier = nn.Sequential(\n",
        "            base.classifier[0],                             # Dropout\n",
        "            nn.Conv2d(512, 1, kernel_size=1, stride=1),     # جایگزینی لایه\n",
        "            nn.Conv2d(1, 1, kernel_size=13, stride=1),      # همانی که قبل داشتید\n",
        "            nn.Flatten()                                     # <<< این‌جا flatten!\n",
        "        )\n",
        "\n",
        "        # 3) فریز کردن لایه‌های ابتدایی features\n",
        "        self.features = base.features\n",
        "        for p in list(self.features.parameters())[:freeze_features_up_to]:\n",
        "            p.requires_grad = False\n",
        "\n",
        "    def forward(self, x):\n",
        "        x = self.features(x)      # (B,512,13,13)\n",
        "        x = self.classifier(x)    # (B,1) پس از Flatten\n",
        "        return x\n",
        "\n",
        "\n",
        "# مثال و проверка summary\n",
        "model = HumanPresenceSqueezeNet().to('cuda')\n",
        "\n",
        "summary(model, (3, 224, 224))\n"
      ]
    },
    {
      "cell_type": "code",
      "execution_count": null,
      "metadata": {
        "colab": {
          "base_uri": "https://localhost:8080/"
        },
        "id": "upxUCl6Vd8hj",
        "outputId": "b9d0ca01-f32e-4d4f-bedf-137acc5ff025"
      },
      "outputs": [
        {
          "name": "stderr",
          "output_type": "stream",
          "text": [
            "<ipython-input-15-d8f913256e9b>:26: FutureWarning: You are using `torch.load` with `weights_only=False` (the current default value), which uses the default pickle module implicitly. It is possible to construct malicious pickle data which will execute arbitrary code during unpickling (See https://github.com/pytorch/pytorch/blob/main/SECURITY.md#untrusted-models for more details). In a future release, the default value for `weights_only` will be flipped to `True`. This limits the functions that could be executed during unpickling. Arbitrary objects will no longer be allowed to be loaded via this mode unless they are explicitly allowlisted by the user via `torch.serialization.add_safe_globals`. We recommend you start setting `weights_only=True` for any use case where you don't have full control of the loaded file. Please open an issue on GitHub for any issues related to this experimental feature.\n",
            "  ckpt = torch.load(checkpoint_path, map_location=device)\n"
          ]
        }
      ],
      "source": [
        "model_2_3th = load_model(HumanPresenceSqueezeNet,\n",
        "                   '/content/drive/MyDrive/model_2_1th.pth',\n",
        "                   device='cuda'\n",
        "                   #,strict=False\n",
        "                         )"
      ]
    },
    {
      "cell_type": "markdown",
      "metadata": {
        "id": "vPxyoQG94XmS"
      },
      "source": [
        "## Create Folder dataset"
      ]
    },
    {
      "cell_type": "code",
      "execution_count": null,
      "metadata": {
        "colab": {
          "base_uri": "https://localhost:8080/"
        },
        "id": "4sTaByRFeGn6",
        "outputId": "5690092b-048b-44ae-e47b-100b35ac5489"
      },
      "outputs": [
        {
          "name": "stdout",
          "output_type": "stream",
          "text": [
            "/content/cut/box_image\n",
            "├── box_image/\n",
            "/content/train_dataset/\n",
            "├── -1/\n",
            "  ├── (118287 images)\n",
            "  │   ├── Types: .jpg\n",
            "├── 1/\n",
            "  ├── (181179 images)\n",
            "  │   ├── Types: .jpg\n"
          ]
        }
      ],
      "source": [
        "move_images_to_folder(source_folder = '/content/cut/box_image'\n",
        "                      , destination_folder = '/content/train_dataset/1',\n",
        "                      pasvand = 'box_image')\n",
        "\n",
        "move_images_to_folder(source_folder = '/content/data_set/train_dataset/1'\n",
        "                      , destination_folder = '/content/train_dataset/1',\n",
        "                      pasvand = None)\n",
        "move_images_to_folder(source_folder = '/content/data_set/train_dataset/-1'\n",
        "                      , destination_folder = '/content/train_dataset/-1',\n",
        "                      pasvand = None)\n",
        "move_images_to_folder(source_folder = '/content/cut/bake_image_Not'\n",
        "                      , destination_folder = '/content/train_dataset/-1',\n",
        "                      pasvand = 'creat_bake')\n",
        "tree_directory_images('/content/cut/box_image')\n",
        "\n",
        "tree_directory_images('/content/train_dataset/')"
      ]
    },
    {
      "cell_type": "markdown",
      "metadata": {
        "id": "J9F45Kvy6Off"
      },
      "source": [
        "## dataset and dataloader"
      ]
    },
    {
      "cell_type": "code",
      "execution_count": null,
      "metadata": {
        "colab": {
          "base_uri": "https://localhost:8080/"
        },
        "id": "Xr_z2NBK45Ys",
        "outputId": "649c55dd-8581-4a24-c84f-fda54f8609fa"
      },
      "outputs": [
        {
          "name": "stdout",
          "output_type": "stream",
          "text": [
            "/content/data_set/val_dataset\n",
            "├── val_dataset/\n",
            "  ├── -1/\n",
            "    ├── (2307 images)\n",
            "    │   ├── Types: .jpg\n",
            "  ├── 1/\n",
            "    ├── (2693 images)\n",
            "    │   ├── Types: .jpg\n",
            "/content/train_dataset\n",
            "├── train_dataset/\n",
            "  ├── -1/\n",
            "    ├── (118287 images)\n",
            "    │   ├── Types: .jpg\n",
            "  ├── 1/\n",
            "    ├── (181179 images)\n",
            "    │   ├── Types: .jpg\n"
          ]
        }
      ],
      "source": [
        "dir_folber_val = '/content/data_set/val_dataset'\n",
        "dir_folber_train = '/content/train_dataset'\n",
        "tree_directory_images(dir_folber_val)\n",
        "tree_directory_images(dir_folber_train)"
      ]
    },
    {
      "cell_type": "code",
      "execution_count": null,
      "metadata": {
        "colab": {
          "base_uri": "https://localhost:8080/"
        },
        "id": "rQec8jjg6iOg",
        "outputId": "3df69f9e-3efe-4281-c917-0dac8a88b5ea"
      },
      "outputs": [
        {
          "name": "stdout",
          "output_type": "stream",
          "text": [
            "{'-1': 0, '1': 1}\n"
          ]
        }
      ],
      "source": [
        "transform_val = transforms.Compose([\n",
        "    #transforms.RandomAffine(degrees=30, translate=(0.1, 0.1), scale=(0.8, 1.2), shear=10),\n",
        "    #transforms.ColorJitter(brightness=0.2, contrast=0.2, saturation=0.2, hue=0.1),\n",
        "    transforms.Resize((224, 224)),   # تغییر اندازه به ورودی مدل\n",
        "    transforms.ToTensor(),\n",
        "    transforms.Normalize(mean=[0.485, 0.456, 0.406], std=[0.229, 0.224, 0.225])\n",
        "])\n",
        "\n",
        "BATCH_SIZE = 2 ** 7\n",
        "# ImageFolder دو کلاس را 0 و 1 نگاشت می‌کند\n",
        "dataset_val = datasets.ImageFolder(root=dir_folber_val, transform=transform_val)\n",
        "dataloader_val = DataLoader(dataset_val, batch_size=BATCH_SIZE, shuffle=False, num_workers=4, pin_memory=True)\n",
        "print(dataset_val.class_to_idx)"
      ]
    },
    {
      "cell_type": "code",
      "execution_count": null,
      "metadata": {
        "colab": {
          "base_uri": "https://localhost:8080/"
        },
        "id": "Y7Z9NJMA6Wo3",
        "outputId": "44df4c5f-f7d0-44e0-d8d8-422b32224b96"
      },
      "outputs": [
        {
          "name": "stdout",
          "output_type": "stream",
          "text": [
            "{'-1': 0, '1': 1}\n"
          ]
        }
      ],
      "source": [
        "from torchvision import datasets, transforms\n",
        "# 4. آماده‌سازی داده‌ها\n",
        "transform = transforms.Compose([\n",
        "    transforms.RandomAffine(degrees=30, translate=(0.1, 0.1), scale=(0.8, 1.2), shear=10),\n",
        "    transforms.ColorJitter(brightness=0.2, contrast=0.2, saturation=0.2, hue=0.1),\n",
        "    transforms.Resize((224, 224)),   # تغییر اندازه به ورودی مدل\n",
        "    transforms.ToTensor(),\n",
        "    transforms.Normalize(mean=[0.485, 0.456, 0.406], std=[0.229, 0.224, 0.225])\n",
        "])\n",
        "\n",
        "\n",
        "\n",
        "\n",
        "\n",
        "\n",
        "# e.g. {'negative': 0, 'positive': 1}\n",
        "# ImageFolder دو کلاس را 0 و 1 نگاشت می‌کند\n",
        "dataset_train = datasets.ImageFolder(root=dir_folber_train, transform=transform)\n",
        "dataloader_train = DataLoader(dataset_train, batch_size=BATCH_SIZE, shuffle=True, num_workers=4, pin_memory=True)\n",
        "\n",
        "print(dataset_train.class_to_idx)"
      ]
    },
    {
      "cell_type": "markdown",
      "metadata": {
        "id": "BofuXQ796soP"
      },
      "source": [
        "## loss and optimazer"
      ]
    },
    {
      "cell_type": "code",
      "execution_count": null,
      "metadata": {
        "id": "vhP4Z98w6vxF"
      },
      "outputs": [],
      "source": [
        "# 3. تعریف تابع از دست دادن (Loss) و بهینه‌ساز\n",
        "# استفاده از BCEWithLogitsLoss که برای خروجی باینری سیگموید استفاده می‌شود\n",
        "loss_function_2_3th = nn.BCEWithLogitsLoss()  # این تابع از سیگموید به‌طور داخلی استفاده می‌کند\n",
        "optimizer_2_3th = optim.Adam(model_2_3th.parameters(), lr=0.00001)\n",
        "\n"
      ]
    },
    {
      "cell_type": "code",
      "execution_count": null,
      "metadata": {
        "id": "ato0yfWpeDkM"
      },
      "outputs": [],
      "source": [
        "test_step(model = model_2_3th,\n",
        "              dataloader = dataloader_val,\n",
        "              loss_fn =loss_function_2_3th,\n",
        "              show_plot_and_F1 = True )"
      ]
    },
    {
      "cell_type": "markdown",
      "metadata": {
        "id": "_HwQ79BE7Kyd"
      },
      "source": [
        "## training"
      ]
    },
    {
      "cell_type": "code",
      "execution_count": null,
      "metadata": {
        "id": "H20fsR1S67h8"
      },
      "outputs": [],
      "source": [
        "model_2_3th_results = train(model=model_2_3th,\n",
        "                        train_dataloader=dataloader_train,\n",
        "                        test_dataloader=dataloader_val,\n",
        "                        optimizer=optimizer_2_3th,\n",
        "                        loss_fn=loss_function_2_3th,\n",
        "                        epochs = 5\n",
        "                        , number_ep = int(925 // 2) + 1 )"
      ]
    },
    {
      "cell_type": "code",
      "execution_count": null,
      "metadata": {
        "id": "H5yRKQaR7a1J"
      },
      "outputs": [],
      "source": [
        "test_step(model = model_2_3th,\n",
        "              dataloader = dataloader_val,\n",
        "              loss_fn =loss_function_2_3th,\n",
        "              show_plot_and_F1 = True )"
      ]
    },
    {
      "cell_type": "code",
      "execution_count": null,
      "metadata": {
        "id": "1QRzY731UzLd"
      },
      "outputs": [],
      "source": [
        "model_2_3th_results = train(model=model_2_3th,\n",
        "                        train_dataloader=dataloader_train,\n",
        "                        test_dataloader=dataloader_val,\n",
        "                        optimizer=optimizer_2_3th,\n",
        "                        loss_fn=loss_function_2_3th,\n",
        "                        epochs = 5\n",
        "                        , number_ep = int(925 // 2) + 1 ,\n",
        "                           results  = model_2_3th_results )"
      ]
    },
    {
      "cell_type": "code",
      "execution_count": null,
      "metadata": {
        "id": "Kilf4og8VfpE"
      },
      "outputs": [],
      "source": [
        "save_models_historyes(\n",
        "    model_2_3th,\n",
        "    model_2_3th_results,\n",
        "    '/content/drive/MyDrive',\n",
        "    'model_2_3th',\n",
        "    )"
      ]
    },
    {
      "cell_type": "code",
      "execution_count": null,
      "metadata": {
        "id": "Avf0mirHjiYm"
      },
      "outputs": [],
      "source": [
        "model_2_3th_results = train(model=model_2_3th,\n",
        "                        train_dataloader=dataloader_train,\n",
        "                        test_dataloader=dataloader_val,\n",
        "                        optimizer=optimizer_2_3th,\n",
        "                        loss_fn=loss_function_2_3th,\n",
        "                        epochs = 5\n",
        "                        , number_ep = int(925 // 2) + 1 ,\n",
        "                           results  = model_2_3th_results )"
      ]
    },
    {
      "cell_type": "code",
      "execution_count": null,
      "metadata": {
        "id": "1ho84SoSOc-d"
      },
      "outputs": [],
      "source": [
        "save_models_historyes(\n",
        "    model_2_3th,\n",
        "    model_2_3th_results,\n",
        "    '/content/drive/MyDrive',\n",
        "    'model_2_3th_15epch',\n",
        "    )"
      ]
    },
    {
      "cell_type": "code",
      "execution_count": null,
      "metadata": {
        "id": "ai1uPqeJOqSW"
      },
      "outputs": [],
      "source": [
        "save_models_historyes(\n",
        "    model_2_3th,\n",
        "    model_2_3th_results,\n",
        "    '/content/drive/MyDrive',\n",
        "    'model_2_3th_35epoch',\n",
        "    )"
      ]
    },
    {
      "cell_type": "markdown",
      "metadata": {
        "id": "9_TqQ47SFej3"
      },
      "source": [
        "## model_2_3_1th"
      ]
    },
    {
      "cell_type": "code",
      "execution_count": null,
      "metadata": {
        "colab": {
          "base_uri": "https://localhost:8080/"
        },
        "id": "4Jix6e9DOv38",
        "outputId": "6b2e0ccd-a51e-4976-e4d9-1398dd65bb78"
      },
      "outputs": [
        {
          "name": "stderr",
          "output_type": "stream",
          "text": [
            "/usr/local/lib/python3.11/dist-packages/torchvision/models/_utils.py:208: UserWarning: The parameter 'pretrained' is deprecated since 0.13 and may be removed in the future, please use 'weights' instead.\n",
            "  warnings.warn(\n",
            "/usr/local/lib/python3.11/dist-packages/torchvision/models/_utils.py:223: UserWarning: Arguments other than a weight enum or `None` for 'weights' are deprecated since 0.13 and may be removed in the future. The current behavior is equivalent to passing `weights=SqueezeNet1_1_Weights.IMAGENET1K_V1`. You can also use `weights=SqueezeNet1_1_Weights.DEFAULT` to get the most up-to-date weights.\n",
            "  warnings.warn(msg)\n",
            "<ipython-input-15-d8f913256e9b>:26: FutureWarning: You are using `torch.load` with `weights_only=False` (the current default value), which uses the default pickle module implicitly. It is possible to construct malicious pickle data which will execute arbitrary code during unpickling (See https://github.com/pytorch/pytorch/blob/main/SECURITY.md#untrusted-models for more details). In a future release, the default value for `weights_only` will be flipped to `True`. This limits the functions that could be executed during unpickling. Arbitrary objects will no longer be allowed to be loaded via this mode unless they are explicitly allowlisted by the user via `torch.serialization.add_safe_globals`. We recommend you start setting `weights_only=True` for any use case where you don't have full control of the loaded file. Please open an issue on GitHub for any issues related to this experimental feature.\n",
            "  ckpt = torch.load(checkpoint_path, map_location=device)\n"
          ]
        }
      ],
      "source": [
        "model_2_3_1th = load_model(HumanPresenceSqueezeNet,\n",
        "                   '/content/drive/MyDrive/model_2_1th.pth',\n",
        "                   device='cuda'\n",
        "                   #,strict=False\n",
        "                         )"
      ]
    },
    {
      "cell_type": "markdown",
      "metadata": {
        "id": "G235O8xEFzl5"
      },
      "source": [
        "## loss and optimizer"
      ]
    },
    {
      "cell_type": "code",
      "execution_count": null,
      "metadata": {
        "id": "-xlNveQkFltj"
      },
      "outputs": [],
      "source": [
        "# 3. تعریف تابع از دست دادن (Loss) و بهینه‌ساز\n",
        "# استفاده از BCEWithLogitsLoss که برای خروجی باینری سیگموید استفاده می‌شود\n",
        "pos_weight = torch.tensor([1.5]).to('cuda')\n",
        "loss_function_2_3_1th = nn.BCEWithLogitsLoss(pos_weight=pos_weight)  # این تابع از سیگموید به‌طور داخلی استفاده می‌کند\n",
        "optimizer_2_3_1th = optim.Adam(model_2_3_1th.parameters(), lr=0.0001)"
      ]
    },
    {
      "cell_type": "code",
      "execution_count": null,
      "metadata": {
        "colab": {
          "base_uri": "https://localhost:8080/"
        },
        "id": "vai6FVvpGGAB",
        "outputId": "ab9ccd22-5744-4475-a4e6-ec16afb768b9"
      },
      "outputs": [
        {
          "name": "stderr",
          "output_type": "stream",
          "text": [
            "\r  0%|          | 0/5 [00:00<?, ?it/s]"
          ]
        },
        {
          "name": "stdout",
          "output_type": "stream",
          "text": [
            "epoch : 0\n",
            "number_len : 463 / 2340| train_loss: 0.3027 | train_acc: 0.8972 | test_loss: 0.4413 | test_acc: 0.8426\n",
            "number_len : 926 / 2340| train_loss: 0.2690 | train_acc: 0.9082 | test_loss: 0.4309 | test_acc: 0.8416\n",
            "number_len : 1389 / 2340| train_loss: 0.2601 | train_acc: 0.9121 | test_loss: 0.4266 | test_acc: 0.8516\n",
            "number_len : 1852 / 2340| train_loss: 0.2537 | train_acc: 0.9151 | test_loss: 0.4394 | test_acc: 0.8479\n",
            "number_len : 2315 / 2340| train_loss: 0.2513 | train_acc: 0.9153 | test_loss: 0.4353 | test_acc: 0.8475\n"
          ]
        },
        {
          "name": "stderr",
          "output_type": "stream",
          "text": [
            "\r 20%|██        | 1/5 [33:12<2:12:48, 1992.03s/it]"
          ]
        },
        {
          "name": "stdout",
          "output_type": "stream",
          "text": [
            "number_len : 2340 / 2340| train_loss: 0.2646 | train_acc: 0.9116 | test_loss: 0.4146 | test_acc: 0.8492\n",
            "epoch : 1\n",
            "number_len : 463 / 2340| train_loss: 0.2458 | train_acc: 0.9166 | test_loss: 0.4845 | test_acc: 0.8195\n",
            "number_len : 926 / 2340| train_loss: 0.2449 | train_acc: 0.9173 | test_loss: 0.4042 | test_acc: 0.8594\n",
            "number_len : 1389 / 2340| train_loss: 0.2434 | train_acc: 0.9171 | test_loss: 0.4108 | test_acc: 0.8605\n",
            "number_len : 1852 / 2340| train_loss: 0.2335 | train_acc: 0.9211 | test_loss: 0.4141 | test_acc: 0.8555\n",
            "number_len : 2315 / 2340| train_loss: 0.2352 | train_acc: 0.9204 | test_loss: 0.4501 | test_acc: 0.8369\n"
          ]
        },
        {
          "name": "stderr",
          "output_type": "stream",
          "text": [
            "\r 40%|████      | 2/5 [1:05:21<1:37:46, 1955.37s/it]"
          ]
        },
        {
          "name": "stdout",
          "output_type": "stream",
          "text": [
            "number_len : 2340 / 2340| train_loss: 0.2359 | train_acc: 0.9220 | test_loss: 0.4386 | test_acc: 0.8541\n",
            "epoch : 2\n",
            "number_len : 463 / 2340| train_loss: 0.2386 | train_acc: 0.9196 | test_loss: 0.3765 | test_acc: 0.8666\n",
            "number_len : 926 / 2340| train_loss: 0.2299 | train_acc: 0.9216 | test_loss: 0.4056 | test_acc: 0.8525\n",
            "number_len : 1389 / 2340| train_loss: 0.2335 | train_acc: 0.9212 | test_loss: 0.4363 | test_acc: 0.8348\n",
            "number_len : 1852 / 2340| train_loss: 0.2234 | train_acc: 0.9249 | test_loss: 0.3778 | test_acc: 0.8619\n",
            "number_len : 2315 / 2340| train_loss: 0.2254 | train_acc: 0.9236 | test_loss: 0.4335 | test_acc: 0.8520\n"
          ]
        },
        {
          "name": "stderr",
          "output_type": "stream",
          "text": [
            "\r 60%|██████    | 3/5 [1:36:45<1:04:05, 1922.72s/it]"
          ]
        },
        {
          "name": "stdout",
          "output_type": "stream",
          "text": [
            "number_len : 2340 / 2340| train_loss: 0.2083 | train_acc: 0.9332 | test_loss: 0.4111 | test_acc: 0.8619\n",
            "epoch : 3\n",
            "number_len : 463 / 2340| train_loss: 0.2287 | train_acc: 0.9232 | test_loss: 0.4269 | test_acc: 0.8484\n",
            "number_len : 926 / 2340| train_loss: 0.2220 | train_acc: 0.9255 | test_loss: 0.4414 | test_acc: 0.8453\n",
            "number_len : 1389 / 2340| train_loss: 0.2257 | train_acc: 0.9247 | test_loss: 0.4403 | test_acc: 0.8500\n",
            "number_len : 1852 / 2340| train_loss: 0.2216 | train_acc: 0.9250 | test_loss: 0.3867 | test_acc: 0.8635\n",
            "number_len : 2315 / 2340| train_loss: 0.2225 | train_acc: 0.9243 | test_loss: 0.4225 | test_acc: 0.8482\n"
          ]
        },
        {
          "name": "stderr",
          "output_type": "stream",
          "text": [
            "\r 80%|████████  | 4/5 [2:07:12<31:24, 1884.91s/it]  "
          ]
        },
        {
          "name": "stdout",
          "output_type": "stream",
          "text": [
            "number_len : 2340 / 2340| train_loss: 0.2189 | train_acc: 0.9254 | test_loss: 0.3760 | test_acc: 0.8629\n",
            "epoch : 4\n",
            "number_len : 463 / 2340| train_loss: 0.2210 | train_acc: 0.9267 | test_loss: 0.3762 | test_acc: 0.8641\n",
            "number_len : 926 / 2340| train_loss: 0.2139 | train_acc: 0.9277 | test_loss: 0.4121 | test_acc: 0.8602\n",
            "number_len : 1389 / 2340| train_loss: 0.2216 | train_acc: 0.9250 | test_loss: 0.3773 | test_acc: 0.8645\n",
            "number_len : 1852 / 2340| train_loss: 0.2176 | train_acc: 0.9263 | test_loss: 0.4224 | test_acc: 0.8498\n",
            "number_len : 2315 / 2340| train_loss: 0.2132 | train_acc: 0.9282 | test_loss: 0.3812 | test_acc: 0.8623\n"
          ]
        },
        {
          "name": "stderr",
          "output_type": "stream",
          "text": [
            "100%|██████████| 5/5 [2:37:26<00:00, 1889.36s/it]"
          ]
        },
        {
          "name": "stdout",
          "output_type": "stream",
          "text": [
            "number_len : 2340 / 2340| train_loss: 0.2099 | train_acc: 0.9307 | test_loss: 0.3920 | test_acc: 0.8578\n"
          ]
        },
        {
          "name": "stderr",
          "output_type": "stream",
          "text": [
            "\n"
          ]
        }
      ],
      "source": [
        "model_2_3_1th_results = train(model=model_2_3_1th,\n",
        "                        train_dataloader=dataloader_train,\n",
        "                        test_dataloader=dataloader_val,\n",
        "                        optimizer=optimizer_2_3_1th,\n",
        "                        loss_fn=loss_function_2_3_1th,\n",
        "                        epochs = 5\n",
        "                        , number_ep = int(925 // 2) + 1\n",
        "                           #,results  = model_2_3_1th_results\n",
        "                            )"
      ]
    },
    {
      "cell_type": "code",
      "execution_count": null,
      "metadata": {
        "id": "Yv7D_TiShjJ-"
      },
      "outputs": [],
      "source": [
        "save_models_historyes(\n",
        "    model_2_3_1th,\n",
        "    model_2_3_1th_results,\n",
        "    '/content/drive/MyDrive',\n",
        "    'model_2_3_1th',\n",
        "    )"
      ]
    },
    {
      "cell_type": "markdown",
      "metadata": {
        "id": "BwTmcyEVeClF"
      },
      "source": [
        "## model2_4th"
      ]
    },
    {
      "cell_type": "code",
      "execution_count": null,
      "metadata": {
        "colab": {
          "base_uri": "https://localhost:8080/"
        },
        "id": "em2jFP1DeNKZ",
        "outputId": "d323746c-954c-4179-c7de-41e3252bc738"
      },
      "outputs": [
        {
          "name": "stdout",
          "output_type": "stream",
          "text": [
            "Requirement already satisfied: torchsummary in /usr/local/lib/python3.11/dist-packages (1.5.1)\n"
          ]
        }
      ],
      "source": [
        "!pip install torchsummary"
      ]
    },
    {
      "cell_type": "code",
      "execution_count": null,
      "metadata": {
        "colab": {
          "base_uri": "https://localhost:8080/"
        },
        "id": "zAYv-3JjeNKa",
        "outputId": "922faf36-b015-4f22-baae-40f6c5fc8392"
      },
      "outputs": [
        {
          "name": "stderr",
          "output_type": "stream",
          "text": [
            "/usr/local/lib/python3.11/dist-packages/torchvision/models/_utils.py:208: UserWarning: The parameter 'pretrained' is deprecated since 0.13 and may be removed in the future, please use 'weights' instead.\n",
            "  warnings.warn(\n",
            "/usr/local/lib/python3.11/dist-packages/torchvision/models/_utils.py:223: UserWarning: Arguments other than a weight enum or `None` for 'weights' are deprecated since 0.13 and may be removed in the future. The current behavior is equivalent to passing `weights=SqueezeNet1_1_Weights.IMAGENET1K_V1`. You can also use `weights=SqueezeNet1_1_Weights.DEFAULT` to get the most up-to-date weights.\n",
            "  warnings.warn(msg)\n"
          ]
        },
        {
          "name": "stdout",
          "output_type": "stream",
          "text": [
            "----------------------------------------------------------------\n",
            "        Layer (type)               Output Shape         Param #\n",
            "================================================================\n",
            "            Conv2d-1         [-1, 64, 111, 111]           1,792\n",
            "              ReLU-2         [-1, 64, 111, 111]               0\n",
            "         MaxPool2d-3           [-1, 64, 55, 55]               0\n",
            "            Conv2d-4           [-1, 16, 55, 55]           1,040\n",
            "              ReLU-5           [-1, 16, 55, 55]               0\n",
            "            Conv2d-6           [-1, 64, 55, 55]           1,088\n",
            "              ReLU-7           [-1, 64, 55, 55]               0\n",
            "            Conv2d-8           [-1, 64, 55, 55]           9,280\n",
            "              ReLU-9           [-1, 64, 55, 55]               0\n",
            "             Fire-10          [-1, 128, 55, 55]               0\n",
            "           Conv2d-11           [-1, 16, 55, 55]           2,064\n",
            "             ReLU-12           [-1, 16, 55, 55]               0\n",
            "           Conv2d-13           [-1, 64, 55, 55]           1,088\n",
            "             ReLU-14           [-1, 64, 55, 55]               0\n",
            "           Conv2d-15           [-1, 64, 55, 55]           9,280\n",
            "             ReLU-16           [-1, 64, 55, 55]               0\n",
            "             Fire-17          [-1, 128, 55, 55]               0\n",
            "        MaxPool2d-18          [-1, 128, 27, 27]               0\n",
            "           Conv2d-19           [-1, 32, 27, 27]           4,128\n",
            "             ReLU-20           [-1, 32, 27, 27]               0\n",
            "           Conv2d-21          [-1, 128, 27, 27]           4,224\n",
            "             ReLU-22          [-1, 128, 27, 27]               0\n",
            "           Conv2d-23          [-1, 128, 27, 27]          36,992\n",
            "             ReLU-24          [-1, 128, 27, 27]               0\n",
            "             Fire-25          [-1, 256, 27, 27]               0\n",
            "           Conv2d-26           [-1, 32, 27, 27]           8,224\n",
            "             ReLU-27           [-1, 32, 27, 27]               0\n",
            "           Conv2d-28          [-1, 128, 27, 27]           4,224\n",
            "             ReLU-29          [-1, 128, 27, 27]               0\n",
            "           Conv2d-30          [-1, 128, 27, 27]          36,992\n",
            "             ReLU-31          [-1, 128, 27, 27]               0\n",
            "             Fire-32          [-1, 256, 27, 27]               0\n",
            "        MaxPool2d-33          [-1, 256, 13, 13]               0\n",
            "           Conv2d-34           [-1, 48, 13, 13]          12,336\n",
            "             ReLU-35           [-1, 48, 13, 13]               0\n",
            "           Conv2d-36          [-1, 192, 13, 13]           9,408\n",
            "             ReLU-37          [-1, 192, 13, 13]               0\n",
            "           Conv2d-38          [-1, 192, 13, 13]          83,136\n",
            "             ReLU-39          [-1, 192, 13, 13]               0\n",
            "             Fire-40          [-1, 384, 13, 13]               0\n",
            "           Conv2d-41           [-1, 48, 13, 13]          18,480\n",
            "             ReLU-42           [-1, 48, 13, 13]               0\n",
            "           Conv2d-43          [-1, 192, 13, 13]           9,408\n",
            "             ReLU-44          [-1, 192, 13, 13]               0\n",
            "           Conv2d-45          [-1, 192, 13, 13]          83,136\n",
            "             ReLU-46          [-1, 192, 13, 13]               0\n",
            "             Fire-47          [-1, 384, 13, 13]               0\n",
            "           Conv2d-48           [-1, 64, 13, 13]          24,640\n",
            "             ReLU-49           [-1, 64, 13, 13]               0\n",
            "           Conv2d-50          [-1, 256, 13, 13]          16,640\n",
            "             ReLU-51          [-1, 256, 13, 13]               0\n",
            "           Conv2d-52          [-1, 256, 13, 13]         147,712\n",
            "             ReLU-53          [-1, 256, 13, 13]               0\n",
            "             Fire-54          [-1, 512, 13, 13]               0\n",
            "           Conv2d-55           [-1, 64, 13, 13]          32,832\n",
            "             ReLU-56           [-1, 64, 13, 13]               0\n",
            "           Conv2d-57          [-1, 256, 13, 13]          16,640\n",
            "             ReLU-58          [-1, 256, 13, 13]               0\n",
            "           Conv2d-59          [-1, 256, 13, 13]         147,712\n",
            "             ReLU-60          [-1, 256, 13, 13]               0\n",
            "             Fire-61          [-1, 512, 13, 13]               0\n",
            "          Dropout-62          [-1, 512, 13, 13]               0\n",
            "           Conv2d-63            [-1, 1, 13, 13]             513\n",
            "           Conv2d-64              [-1, 1, 1, 1]             170\n",
            "          Flatten-65                    [-1, 1]               0\n",
            "================================================================\n",
            "Total params: 723,179\n",
            "Trainable params: 707,915\n",
            "Non-trainable params: 15,264\n",
            "----------------------------------------------------------------\n",
            "Input size (MB): 0.57\n",
            "Forward/backward pass size (MB): 51.18\n",
            "Params size (MB): 2.76\n",
            "Estimated Total Size (MB): 54.51\n",
            "----------------------------------------------------------------\n"
          ]
        }
      ],
      "source": [
        "import torch\n",
        "from torch import nn\n",
        "from torchvision import models\n",
        "from torchsummary import summary\n",
        "class HumanPresenceSqueezeNet(nn.Module):\n",
        "    def __init__(self,\n",
        "                 pretrained=True,\n",
        "                 weights=models.SqueezeNet1_1_Weights.DEFAULT,\n",
        "                 freeze_features_up_to=10):\n",
        "        super().__init__()\n",
        "        # 1) بارگذاری backbone با API جدید weights\n",
        "        base = models.squeezenet1_1(pretrained =pretrained)\n",
        "\n",
        "        # 2) ساخت classifier جدید شامل Dropout → Conv2d → Conv2d → Flatten\n",
        "        #    خروجی نهایی پس از Flatten می‌شود (B, 1)\n",
        "        self.classifier = nn.Sequential(\n",
        "            base.classifier[0],                             # Dropout\n",
        "            nn.Conv2d(512, 1, kernel_size=1, stride=1),     # جایگزینی لایه\n",
        "            nn.Conv2d(1, 1, kernel_size=13, stride=1),      # همانی که قبل داشتید\n",
        "            nn.Flatten()                                     # <<< این‌جا flatten!\n",
        "        )\n",
        "\n",
        "        # 3) فریز کردن لایه‌های ابتدایی features\n",
        "        self.features = base.features\n",
        "        for p in list(self.features.parameters())[:freeze_features_up_to]:\n",
        "            p.requires_grad = False\n",
        "\n",
        "    def forward(self, x):\n",
        "        x = self.features(x)      # (B,512,13,13)\n",
        "        x = self.classifier(x)    # (B,1) پس از Flatten\n",
        "        return x\n",
        "\n",
        "\n",
        "# مثال و проверка summary\n",
        "model = HumanPresenceSqueezeNet().to('cuda')\n",
        "\n",
        "summary(model, (3, 224, 224))\n"
      ]
    },
    {
      "cell_type": "code",
      "execution_count": null,
      "metadata": {
        "id": "NnR62zjDeNKa"
      },
      "outputs": [],
      "source": [
        "model_2_4th = load_model(HumanPresenceSqueezeNet,\n",
        "                   '/content/drive/MyDrive/model_2_1th.pth',\n",
        "                   device='cuda'\n",
        "                   #,strict=False\n",
        "                         )"
      ]
    },
    {
      "cell_type": "markdown",
      "metadata": {
        "id": "2cDw_SgiotRV"
      },
      "source": [
        "## Create folber dataset"
      ]
    },
    {
      "cell_type": "code",
      "execution_count": null,
      "metadata": {
        "id": "m0fMqFeOo0Oe"
      },
      "outputs": [],
      "source": [
        "\n",
        "# Cut box of images\n",
        "imm1.create_cut_box_images( min_area=5000, random_n = 1)\n",
        "# Create bake grund\n",
        "imm1.create_cut_box_bake()"
      ]
    },
    {
      "cell_type": "code",
      "execution_count": null,
      "metadata": {
        "colab": {
          "base_uri": "https://localhost:8080/"
        },
        "id": "PdLGQrmOpJGj",
        "outputId": "431ddc75-47cb-4184-d19e-cfb15d4bd118"
      },
      "outputs": [
        {
          "name": "stdout",
          "output_type": "stream",
          "text": [
            "/content/cut/box_image\n",
            "├── box_image/\n",
            "/content/train_dataset/\n",
            "├── -1/\n",
            "  ├── (118287 images)\n",
            "  │   ├── Types: .jpg\n",
            "├── 1/\n",
            "  ├── (155951 images)\n",
            "  │   ├── Types: .jpg\n"
          ]
        }
      ],
      "source": [
        "move_images_to_folder(source_folder = '/content/cut/box_image'\n",
        "                      , destination_folder = '/content/train_dataset/1',\n",
        "                      pasvand = 'box_image')\n",
        "\n",
        "move_images_to_folder(source_folder = '/content/data_set/train_dataset/1'\n",
        "                      , destination_folder = '/content/train_dataset/1',\n",
        "                      pasvand = None)\n",
        "move_images_to_folder(source_folder = '/content/data_set/train_dataset/-1'\n",
        "                      , destination_folder = '/content/train_dataset/-1',\n",
        "                      pasvand = None)\n",
        "move_images_to_folder(source_folder = '/content/cut/bake_image_Not'\n",
        "                      , destination_folder = '/content/train_dataset/-1',\n",
        "                      pasvand = 'creat_bake')\n",
        "tree_directory_images('/content/cut/box_image')\n",
        "\n",
        "tree_directory_images('/content/train_dataset/')"
      ]
    },
    {
      "cell_type": "code",
      "execution_count": null,
      "metadata": {
        "colab": {
          "base_uri": "https://localhost:8080/"
        },
        "id": "NMg47XKJpAWB",
        "outputId": "d5792408-24c4-4cf0-9849-f0b4f9189d14"
      },
      "outputs": [
        {
          "name": "stdout",
          "output_type": "stream",
          "text": [
            "/content/data_set/val_dataset\n",
            "├── val_dataset/\n",
            "  ├── -1/\n",
            "    ├── (2307 images)\n",
            "    │   ├── Types: .jpg\n",
            "  ├── 1/\n",
            "    ├── (2693 images)\n",
            "    │   ├── Types: .jpg\n",
            "/content/train_dataset\n",
            "├── train_dataset/\n",
            "  ├── -1/\n",
            "    ├── (118287 images)\n",
            "    │   ├── Types: .jpg\n",
            "  ├── 1/\n",
            "    ├── (155951 images)\n",
            "    │   ├── Types: .jpg\n"
          ]
        }
      ],
      "source": [
        "dir_folber_val = '/content/data_set/val_dataset'\n",
        "dir_folber_train = '/content/train_dataset'\n",
        "tree_directory_images(dir_folber_val)\n",
        "tree_directory_images(dir_folber_train)"
      ]
    },
    {
      "cell_type": "markdown",
      "metadata": {
        "id": "nII_un1OqTay"
      },
      "source": [
        "## dataset and dataloabe"
      ]
    },
    {
      "cell_type": "code",
      "execution_count": null,
      "metadata": {
        "colab": {
          "base_uri": "https://localhost:8080/"
        },
        "id": "l0foCnkrqR5W",
        "outputId": "efbb6082-fbd1-4cac-a288-5925d7a2b20c"
      },
      "outputs": [
        {
          "name": "stdout",
          "output_type": "stream",
          "text": [
            "{'-1': 0, '1': 1}\n"
          ]
        }
      ],
      "source": [
        "transform_val = transforms.Compose([\n",
        "    #transforms.RandomAffine(degrees=30, translate=(0.1, 0.1), scale=(0.8, 1.2), shear=10),\n",
        "    #transforms.ColorJitter(brightness=0.2, contrast=0.2, saturation=0.2, hue=0.1),\n",
        "    transforms.Resize((224, 224)),   # تغییر اندازه به ورودی مدل\n",
        "    transforms.ToTensor(),\n",
        "    transforms.Normalize(mean=[0.485, 0.456, 0.406], std=[0.229, 0.224, 0.225])\n",
        "])\n",
        "\n",
        "BATCH_SIZE = 2 ** 7\n",
        "# ImageFolder دو کلاس را 0 و 1 نگاشت می‌کند\n",
        "dataset_val = datasets.ImageFolder(root=dir_folber_val, transform=transform_val)\n",
        "dataloader_val = DataLoader(dataset_val, batch_size=BATCH_SIZE, shuffle=False, num_workers=4, pin_memory=True)\n",
        "print(dataset_val.class_to_idx)"
      ]
    },
    {
      "cell_type": "code",
      "execution_count": null,
      "metadata": {
        "colab": {
          "base_uri": "https://localhost:8080/"
        },
        "id": "Oy0t7AMOqR5X",
        "outputId": "f9a7a69e-6f16-42ed-ce9b-3bb7b9d98dda"
      },
      "outputs": [
        {
          "name": "stdout",
          "output_type": "stream",
          "text": [
            "{'-1': 0, '1': 1}\n"
          ]
        }
      ],
      "source": [
        "from torchvision import datasets, transforms\n",
        "# 4. آماده‌سازی داده‌ها\n",
        "transform = transforms.Compose([\n",
        "    transforms.RandomAffine(degrees=30, translate=(0.1, 0.1), scale=(0.8, 1.2), shear=10),\n",
        "    transforms.ColorJitter(brightness=0.2, contrast=0.2, saturation=0.2, hue=0.1),\n",
        "    transforms.Resize((224, 224)),   # تغییر اندازه به ورودی مدل\n",
        "    transforms.ToTensor(),\n",
        "    transforms.Normalize(mean=[0.485, 0.456, 0.406], std=[0.229, 0.224, 0.225])\n",
        "])\n",
        "\n",
        "\n",
        "\n",
        "\n",
        "\n",
        "\n",
        "# e.g. {'negative': 0, 'positive': 1}\n",
        "# ImageFolder دو کلاس را 0 و 1 نگاشت می‌کند\n",
        "dataset_train = datasets.ImageFolder(root=dir_folber_train, transform=transform)\n",
        "dataloader_train = DataLoader(dataset_train, batch_size=BATCH_SIZE, shuffle=True, num_workers=4, pin_memory=True)\n",
        "\n",
        "print(dataset_train.class_to_idx)"
      ]
    },
    {
      "cell_type": "markdown",
      "metadata": {
        "id": "Hbg3MEUfqR5X"
      },
      "source": [
        "## loss and optimazer"
      ]
    },
    {
      "cell_type": "code",
      "execution_count": null,
      "metadata": {
        "id": "yX8ZIw9zqR5X"
      },
      "outputs": [],
      "source": [
        "# 3. تعریف تابع از دست دادن (Loss) و بهینه‌ساز\n",
        "# استفاده از BCEWithLogitsLoss که برای خروجی باینری سیگموید استفاده می‌شود\n",
        "loss_function_2_4th = nn.BCEWithLogitsLoss()  # این تابع از سیگموید به‌طور داخلی استفاده می‌کند\n",
        "optimizer_2_4th = optim.Adam(model_2_4th.parameters(), lr=0.0001)\n",
        "\n"
      ]
    },
    {
      "cell_type": "markdown",
      "metadata": {
        "id": "7BrdHbD-rD1_"
      },
      "source": [
        "## trianing\n"
      ]
    },
    {
      "cell_type": "code",
      "execution_count": null,
      "metadata": {
        "colab": {
          "base_uri": "https://localhost:8080/"
        },
        "id": "HoUbkQDwqi7-",
        "outputId": "3fae1429-a2db-4717-a357-9fc81afd2061"
      },
      "outputs": [
        {
          "name": "stderr",
          "output_type": "stream",
          "text": [
            "\r  0%|          | 0/5 [00:00<?, ?it/s]"
          ]
        },
        {
          "name": "stdout",
          "output_type": "stream",
          "text": [
            "epoch : 0\n",
            "number_len : 500 / 2143| train_loss: 0.2568 | train_acc: 0.8872 | test_loss: 0.3334 | test_acc: 0.8295\n",
            "number_len : 1000 / 2143| train_loss: 0.2277 | train_acc: 0.9011 | test_loss: 0.3396 | test_acc: 0.8373\n",
            "number_len : 1500 / 2143| train_loss: 0.2222 | train_acc: 0.9035 | test_loss: 0.3497 | test_acc: 0.8434\n",
            "number_len : 2000 / 2143| train_loss: 0.2144 | train_acc: 0.9079 | test_loss: 0.3922 | test_acc: 0.8184\n"
          ]
        },
        {
          "name": "stderr",
          "output_type": "stream",
          "text": [
            "\r 20%|██        | 1/5 [32:11<2:08:44, 1931.19s/it]"
          ]
        },
        {
          "name": "stdout",
          "output_type": "stream",
          "text": [
            "number_len : 2143 / 2143| train_loss: 0.2239 | train_acc: 0.9016 | test_loss: 0.3338 | test_acc: 0.8393\n",
            "epoch : 1\n",
            "number_len : 500 / 2143| train_loss: 0.2174 | train_acc: 0.9050 | test_loss: 0.3257 | test_acc: 0.8428\n",
            "number_len : 1000 / 2143| train_loss: 0.2108 | train_acc: 0.9069 | test_loss: 0.3210 | test_acc: 0.8523\n",
            "number_len : 1500 / 2143| train_loss: 0.2097 | train_acc: 0.9093 | test_loss: 0.3433 | test_acc: 0.8375\n",
            "number_len : 2000 / 2143| train_loss: 0.2031 | train_acc: 0.9129 | test_loss: 0.3328 | test_acc: 0.8420\n"
          ]
        },
        {
          "name": "stderr",
          "output_type": "stream",
          "text": [
            "\r 40%|████      | 2/5 [1:03:20<1:34:43, 1894.57s/it]"
          ]
        },
        {
          "name": "stdout",
          "output_type": "stream",
          "text": [
            "number_len : 2143 / 2143| train_loss: 0.1993 | train_acc: 0.9132 | test_loss: 0.3184 | test_acc: 0.8473\n",
            "epoch : 2\n",
            "number_len : 500 / 2143| train_loss: 0.2028 | train_acc: 0.9129 | test_loss: 0.3406 | test_acc: 0.8352\n",
            "number_len : 1000 / 2143| train_loss: 0.2025 | train_acc: 0.9111 | test_loss: 0.3484 | test_acc: 0.8447\n",
            "number_len : 1500 / 2143| train_loss: 0.1973 | train_acc: 0.9140 | test_loss: 0.3356 | test_acc: 0.8475\n",
            "number_len : 2000 / 2143| train_loss: 0.1985 | train_acc: 0.9145 | test_loss: 0.3149 | test_acc: 0.8564\n"
          ]
        },
        {
          "name": "stderr",
          "output_type": "stream",
          "text": [
            "\r 60%|██████    | 3/5 [1:34:17<1:02:35, 1877.59s/it]"
          ]
        },
        {
          "name": "stdout",
          "output_type": "stream",
          "text": [
            "number_len : 2143 / 2143| train_loss: 0.1984 | train_acc: 0.9157 | test_loss: 0.3332 | test_acc: 0.8352\n",
            "epoch : 3\n",
            "number_len : 500 / 2143| train_loss: 0.1979 | train_acc: 0.9143 | test_loss: 0.3302 | test_acc: 0.8488\n",
            "number_len : 1000 / 2143| train_loss: 0.1953 | train_acc: 0.9151 | test_loss: 0.3848 | test_acc: 0.8256\n",
            "number_len : 1500 / 2143| train_loss: 0.1919 | train_acc: 0.9168 | test_loss: 0.3107 | test_acc: 0.8535\n",
            "number_len : 2000 / 2143| train_loss: 0.1925 | train_acc: 0.9159 | test_loss: 0.3136 | test_acc: 0.8453\n"
          ]
        },
        {
          "name": "stderr",
          "output_type": "stream",
          "text": [
            "\r 80%|████████  | 4/5 [2:04:08<30:43, 1843.44s/it]  "
          ]
        },
        {
          "name": "stdout",
          "output_type": "stream",
          "text": [
            "number_len : 2143 / 2143| train_loss: 0.2003 | train_acc: 0.9129 | test_loss: 0.3178 | test_acc: 0.8404\n",
            "epoch : 4\n",
            "number_len : 500 / 2143| train_loss: 0.1905 | train_acc: 0.9180 | test_loss: 0.3049 | test_acc: 0.8432\n",
            "number_len : 1000 / 2143| train_loss: 0.1882 | train_acc: 0.9182 | test_loss: 0.3112 | test_acc: 0.8494\n",
            "number_len : 1500 / 2143| train_loss: 0.1868 | train_acc: 0.9190 | test_loss: 0.3244 | test_acc: 0.8453\n",
            "number_len : 2000 / 2143| train_loss: 0.1875 | train_acc: 0.9187 | test_loss: 0.3030 | test_acc: 0.8598\n"
          ]
        },
        {
          "name": "stderr",
          "output_type": "stream",
          "text": [
            "100%|██████████| 5/5 [2:33:45<00:00, 1845.09s/it]"
          ]
        },
        {
          "name": "stdout",
          "output_type": "stream",
          "text": [
            "number_len : 2143 / 2143| train_loss: 0.1955 | train_acc: 0.9149 | test_loss: 0.3180 | test_acc: 0.8389\n"
          ]
        },
        {
          "name": "stderr",
          "output_type": "stream",
          "text": [
            "\n"
          ]
        }
      ],
      "source": [
        "model_2_4th_results = train(model=model_2_4th,\n",
        "                        train_dataloader=dataloader_train,\n",
        "                        test_dataloader=dataloader_val,\n",
        "                        optimizer=optimizer_2_4th,\n",
        "                        loss_fn=loss_function_2_4th,\n",
        "                        epochs = 5\n",
        "                        , number_ep = 500 )"
      ]
    },
    {
      "cell_type": "markdown",
      "metadata": {
        "id": "kyYCfcaXWAOZ"
      },
      "source": [
        "## val model"
      ]
    },
    {
      "cell_type": "code",
      "execution_count": null,
      "metadata": {
        "colab": {
          "base_uri": "https://localhost:8080/",
          "height": 719
        },
        "id": "cK9X7KG0Q38Z",
        "outputId": "55a21f48-0805-493e-bc3a-788383c314b9"
      },
      "outputs": [
        {
          "data": {
            "image/png": "[encoded data removed]",
            "text/plain": [
              "<Figure size 1000x700 with 1 Axes>"
            ]
          },
          "metadata": {},
          "output_type": "display_data"
        },
        {
          "data": {
            "text/plain": [
              "(0.31798563040792943, 0.8388671875)"
            ]
          },
          "execution_count": 35,
          "metadata": {},
          "output_type": "execute_result"
        }
      ],
      "source": [
        "test_step(model = model_2_4th,\n",
        "              dataloader = dataloader_val,\n",
        "              loss_fn =loss_function_2_4th,\n",
        "              show_plot_and_F1 = True )"
      ]
    },
    {
      "cell_type": "code",
      "execution_count": null,
      "metadata": {
        "id": "dwIw3oEkQ35D"
      },
      "outputs": [],
      "source": [
        "plot_random_samples(model=model_2_4th,\n",
        "                    test_dataset=dataset_val,\n",
        "                    num_samples=100,\n",
        "                     show_images = 'all' # 'all' or 'TT' or 'FF' or 'FT' or 'TF' or 'all T' or 'all F'\n",
        "                    )"
      ]
    },
    {
      "cell_type": "code",
      "execution_count": null,
      "metadata": {
        "id": "aZq4qCOoQ31c"
      },
      "outputs": [],
      "source": []
    },
    {
      "cell_type": "markdown",
      "metadata": {
        "id": "-gXWoJFeQ3NJ"
      },
      "source": [
        "## save model"
      ]
    },
    {
      "cell_type": "code",
      "execution_count": null,
      "metadata": {
        "colab": {
          "base_uri": "https://localhost:8080/"
        },
        "id": "TF2P9NEmWH_-",
        "outputId": "57bdf2b3-25ae-4718-9fa1-5392ee202ea4"
      },
      "outputs": [
        {
          "name": "stdout",
          "output_type": "stream",
          "text": [
            "Model saved :/content/drive/MyDrive/model_2_4th.pth\n",
            "History saved : /content/drive/MyDrive/model_2_4th.csv\n"
          ]
        }
      ],
      "source": [
        "save_models_historyes(\n",
        "    model_2_4th,\n",
        "    model_2_4th_results,\n",
        "    '/content/drive/MyDrive',\n",
        "    'model_2_4th',\n",
        "    )"
      ]
    },
    {
      "cell_type": "markdown",
      "metadata": {
        "id": "ddB5FxzfPdiy"
      },
      "source": [
        "## model_2_5th"
      ]
    },
    {
      "cell_type": "code",
      "execution_count": null,
      "metadata": {
        "colab": {
          "base_uri": "https://localhost:8080/"
        },
        "id": "U1JmcKo3Tztv",
        "outputId": "4a6e4e1e-ed78-4c20-db7e-8cceab82e40a"
      },
      "outputs": [
        {
          "name": "stdout",
          "output_type": "stream",
          "text": [
            "Requirement already satisfied: torchsummary in /usr/local/lib/python3.11/dist-packages (1.5.1)\n"
          ]
        }
      ],
      "source": [
        "!pip install torchsummary"
      ]
    },
    {
      "cell_type": "code",
      "execution_count": null,
      "metadata": {
        "colab": {
          "base_uri": "https://localhost:8080/"
        },
        "id": "_Z8YyMmnTztv",
        "outputId": "8a52af1f-bfaf-49ef-e2f6-3af911599329"
      },
      "outputs": [
        {
          "name": "stderr",
          "output_type": "stream",
          "text": [
            "/usr/local/lib/python3.11/dist-packages/torchvision/models/_utils.py:208: UserWarning: The parameter 'pretrained' is deprecated since 0.13 and may be removed in the future, please use 'weights' instead.\n",
            "  warnings.warn(\n",
            "/usr/local/lib/python3.11/dist-packages/torchvision/models/_utils.py:223: UserWarning: Arguments other than a weight enum or `None` for 'weights' are deprecated since 0.13 and may be removed in the future. The current behavior is equivalent to passing `weights=SqueezeNet1_1_Weights.IMAGENET1K_V1`. You can also use `weights=SqueezeNet1_1_Weights.DEFAULT` to get the most up-to-date weights.\n",
            "  warnings.warn(msg)\n"
          ]
        },
        {
          "name": "stdout",
          "output_type": "stream",
          "text": [
            "----------------------------------------------------------------\n",
            "        Layer (type)               Output Shape         Param #\n",
            "================================================================\n",
            "            Conv2d-1         [-1, 64, 111, 111]           1,792\n",
            "              ReLU-2         [-1, 64, 111, 111]               0\n",
            "         MaxPool2d-3           [-1, 64, 55, 55]               0\n",
            "            Conv2d-4           [-1, 16, 55, 55]           1,040\n",
            "              ReLU-5           [-1, 16, 55, 55]               0\n",
            "            Conv2d-6           [-1, 64, 55, 55]           1,088\n",
            "              ReLU-7           [-1, 64, 55, 55]               0\n",
            "            Conv2d-8           [-1, 64, 55, 55]           9,280\n",
            "              ReLU-9           [-1, 64, 55, 55]               0\n",
            "             Fire-10          [-1, 128, 55, 55]               0\n",
            "           Conv2d-11           [-1, 16, 55, 55]           2,064\n",
            "             ReLU-12           [-1, 16, 55, 55]               0\n",
            "           Conv2d-13           [-1, 64, 55, 55]           1,088\n",
            "             ReLU-14           [-1, 64, 55, 55]               0\n",
            "           Conv2d-15           [-1, 64, 55, 55]           9,280\n",
            "             ReLU-16           [-1, 64, 55, 55]               0\n",
            "             Fire-17          [-1, 128, 55, 55]               0\n",
            "        MaxPool2d-18          [-1, 128, 27, 27]               0\n",
            "           Conv2d-19           [-1, 32, 27, 27]           4,128\n",
            "             ReLU-20           [-1, 32, 27, 27]               0\n",
            "           Conv2d-21          [-1, 128, 27, 27]           4,224\n",
            "             ReLU-22          [-1, 128, 27, 27]               0\n",
            "           Conv2d-23          [-1, 128, 27, 27]          36,992\n",
            "             ReLU-24          [-1, 128, 27, 27]               0\n",
            "             Fire-25          [-1, 256, 27, 27]               0\n",
            "           Conv2d-26           [-1, 32, 27, 27]           8,224\n",
            "             ReLU-27           [-1, 32, 27, 27]               0\n",
            "           Conv2d-28          [-1, 128, 27, 27]           4,224\n",
            "             ReLU-29          [-1, 128, 27, 27]               0\n",
            "           Conv2d-30          [-1, 128, 27, 27]          36,992\n",
            "             ReLU-31          [-1, 128, 27, 27]               0\n",
            "             Fire-32          [-1, 256, 27, 27]               0\n",
            "        MaxPool2d-33          [-1, 256, 13, 13]               0\n",
            "           Conv2d-34           [-1, 48, 13, 13]          12,336\n",
            "             ReLU-35           [-1, 48, 13, 13]               0\n",
            "           Conv2d-36          [-1, 192, 13, 13]           9,408\n",
            "             ReLU-37          [-1, 192, 13, 13]               0\n",
            "           Conv2d-38          [-1, 192, 13, 13]          83,136\n",
            "             ReLU-39          [-1, 192, 13, 13]               0\n",
            "             Fire-40          [-1, 384, 13, 13]               0\n",
            "           Conv2d-41           [-1, 48, 13, 13]          18,480\n",
            "             ReLU-42           [-1, 48, 13, 13]               0\n",
            "           Conv2d-43          [-1, 192, 13, 13]           9,408\n",
            "             ReLU-44          [-1, 192, 13, 13]               0\n",
            "           Conv2d-45          [-1, 192, 13, 13]          83,136\n",
            "             ReLU-46          [-1, 192, 13, 13]               0\n",
            "             Fire-47          [-1, 384, 13, 13]               0\n",
            "           Conv2d-48           [-1, 64, 13, 13]          24,640\n",
            "             ReLU-49           [-1, 64, 13, 13]               0\n",
            "           Conv2d-50          [-1, 256, 13, 13]          16,640\n",
            "             ReLU-51          [-1, 256, 13, 13]               0\n",
            "           Conv2d-52          [-1, 256, 13, 13]         147,712\n",
            "             ReLU-53          [-1, 256, 13, 13]               0\n",
            "             Fire-54          [-1, 512, 13, 13]               0\n",
            "           Conv2d-55           [-1, 64, 13, 13]          32,832\n",
            "             ReLU-56           [-1, 64, 13, 13]               0\n",
            "           Conv2d-57          [-1, 256, 13, 13]          16,640\n",
            "             ReLU-58          [-1, 256, 13, 13]               0\n",
            "           Conv2d-59          [-1, 256, 13, 13]         147,712\n",
            "             ReLU-60          [-1, 256, 13, 13]               0\n",
            "             Fire-61          [-1, 512, 13, 13]               0\n",
            "          Dropout-62          [-1, 512, 13, 13]               0\n",
            "           Conv2d-63            [-1, 1, 13, 13]             513\n",
            "           Conv2d-64              [-1, 1, 1, 1]             170\n",
            "          Flatten-65                    [-1, 1]               0\n",
            "================================================================\n",
            "Total params: 723,179\n",
            "Trainable params: 707,915\n",
            "Non-trainable params: 15,264\n",
            "----------------------------------------------------------------\n",
            "Input size (MB): 0.57\n",
            "Forward/backward pass size (MB): 51.18\n",
            "Params size (MB): 2.76\n",
            "Estimated Total Size (MB): 54.51\n",
            "----------------------------------------------------------------\n"
          ]
        }
      ],
      "source": [
        "import torch\n",
        "from torch import nn\n",
        "from torchvision import models\n",
        "from torchsummary import summary\n",
        "class HumanPresenceSqueezeNet(nn.Module):\n",
        "    def __init__(self,\n",
        "                 pretrained=True,\n",
        "                 weights=models.SqueezeNet1_1_Weights.DEFAULT,\n",
        "                 freeze_features_up_to=10):\n",
        "        super().__init__()\n",
        "        # 1) بارگذاری backbone با API جدید weights\n",
        "        base = models.squeezenet1_1(pretrained =pretrained)\n",
        "\n",
        "        # 2) ساخت classifier جدید شامل Dropout → Conv2d → Conv2d → Flatten\n",
        "        #    خروجی نهایی پس از Flatten می‌شود (B, 1)\n",
        "        self.classifier = nn.Sequential(\n",
        "            base.classifier[0],                             # Dropout\n",
        "            nn.Conv2d(512, 1, kernel_size=1, stride=1),     # جایگزینی لایه\n",
        "            nn.Conv2d(1, 1, kernel_size=13, stride=1),      # همانی که قبل داشتید\n",
        "            nn.Flatten()                                     # <<< این‌جا flatten!\n",
        "        )\n",
        "\n",
        "        # 3) فریز کردن لایه‌های ابتدایی features\n",
        "        self.features = base.features\n",
        "        for p in list(self.features.parameters())[:freeze_features_up_to]:\n",
        "            p.requires_grad = False\n",
        "\n",
        "    def forward(self, x):\n",
        "        x = self.features(x)      # (B,512,13,13)\n",
        "        x = self.classifier(x)    # (B,1) پس از Flatten\n",
        "        return x\n",
        "\n",
        "\n",
        "# مثال و проверка summary\n",
        "model = HumanPresenceSqueezeNet().to('cuda')\n",
        "\n",
        "summary(model, (3, 224, 224))\n"
      ]
    },
    {
      "cell_type": "code",
      "execution_count": null,
      "metadata": {
        "id": "eypNv4LwTztv"
      },
      "outputs": [],
      "source": [
        "model_2_5th = load_model(HumanPresenceSqueezeNet,\n",
        "                   '/content/drive/MyDrive/model_2_1th.pth',\n",
        "                   device='cuda'\n",
        "                   #,strict=False\n",
        "                         )"
      ]
    },
    {
      "cell_type": "markdown",
      "metadata": {
        "id": "ZmFxN_STPhsJ"
      },
      "source": [
        "## Create Folder data"
      ]
    },
    {
      "cell_type": "code",
      "execution_count": null,
      "metadata": {
        "colab": {
          "base_uri": "https://localhost:8080/"
        },
        "id": "FdCKbyutPkHj",
        "outputId": "b02a6ab4-cce8-4b65-ecb3-52c6d4499b88"
      },
      "outputs": [
        {
          "name": "stdout",
          "output_type": "stream",
          "text": [
            "loading annotations into memory...\n",
            "Done (t=20.95s)\n",
            "creating index...\n",
            "index created!\n"
          ]
        }
      ],
      "source": [
        "imm1 =  vdm.CutImage(image_dir = '/content/data/train2017',\n",
        "              bake_dir = '/content/data_set/train_dataset/-1',\n",
        "              ann_file = '/content/data/annotations/instances_train2017.json',\n",
        "              category_id = 1,\n",
        "              destination_dir = '/content/cut',\n",
        "              cache_size= 10000000,\n",
        "              memory_threshold = 95.0\n",
        "              )"
      ]
    },
    {
      "cell_type": "code",
      "execution_count": null,
      "metadata": {
        "colab": {
          "base_uri": "https://localhost:8080/"
        },
        "id": "M2B-xCglPkHk",
        "outputId": "2f623e6b-f75f-4daa-ad03-d72e90e2933e"
      },
      "outputs": [
        {
          "name": "stderr",
          "output_type": "stream",
          "text": [
            "Processing annotations:  51%|█████     | 133978/262465 [04:09<05:37, 380.49it/s]"
          ]
        },
        {
          "name": "stdout",
          "output_type": "stream",
          "text": [
            "\n",
            " High memory usage 95.0%  , evicted /content/data/train2017/000000537548.jpg\n"
          ]
        },
        {
          "name": "stderr",
          "output_type": "stream",
          "text": [
            "Processing annotations: 100%|██████████| 262465/262465 [07:27<00:00, 587.17it/s]\n"
          ]
        }
      ],
      "source": [
        "# Cut box of images\n",
        "imm1.create_cut_box_images( min_area=500, random_n = 1,random_size_box_cut=True)"
      ]
    },
    {
      "cell_type": "code",
      "execution_count": null,
      "metadata": {
        "id": "8UqRFSkbPkHk"
      },
      "outputs": [],
      "source": [
        "dir_path = \"/content/cut/box_image\"\n",
        "display_random_images(dir_path, count=5)\n"
      ]
    },
    {
      "cell_type": "code",
      "execution_count": null,
      "metadata": {
        "colab": {
          "base_uri": "https://localhost:8080/"
        },
        "id": "PnsoySa2PkHk",
        "outputId": "35c1ea14-e820-4bca-b08e-e7e001d5b73d"
      },
      "outputs": [
        {
          "name": "stderr",
          "output_type": "stream",
          "text": [
            "Processing annotations:  12%|█▏        | 7773/64115 [01:40<12:39, 74.14it/s]"
          ]
        }
      ],
      "source": [
        "# Create bake grund\n",
        "imm1.create_cut_box_bake()"
      ]
    },
    {
      "cell_type": "code",
      "execution_count": null,
      "metadata": {
        "id": "HIlAYNWzPkHk"
      },
      "outputs": [],
      "source": [
        "dir_path = \"/content/cut/bake_image_Not\"\n",
        "display_random_images(dir_path, count=5)\n"
      ]
    },
    {
      "cell_type": "code",
      "execution_count": null,
      "metadata": {
        "colab": {
          "base_uri": "https://localhost:8080/"
        },
        "id": "Zpi6Tye9Pw0I",
        "outputId": "08c53491-0953-4d00-9b65-488cd3487860"
      },
      "outputs": [
        {
          "name": "stdout",
          "output_type": "stream",
          "text": [
            "/content/cut/box_image\n",
            "├── box_image/\n",
            "  ├── (186342 images)\n",
            "  │   ├── Types: .jpg\n",
            "/content/train_dataset/\n",
            "├── -1/\n",
            "  ├── (64115 images)\n",
            "  │   ├── Types: .jpg\n",
            "├── 1/\n",
            "  ├── (64115 images)\n",
            "  │   ├── Types: .jpg\n"
          ]
        }
      ],
      "source": [
        "\n",
        "\n",
        "move_images_to_folder(source_folder = '/content/data_set/train_dataset/1'\n",
        "                      , destination_folder = '/content/train_dataset/1',\n",
        "                      pasvand = None)\n",
        "\n",
        "move_images_to_folder(source_folder = '/content/cut/bake_image_Not'\n",
        "                      , destination_folder = '/content/train_dataset/-1',\n",
        "                      pasvand = 'creat_bake')\n",
        "tree_directory_images('/content/cut/box_image')\n",
        "\n",
        "tree_directory_images('/content/train_dataset/')"
      ]
    },
    {
      "cell_type": "code",
      "execution_count": null,
      "metadata": {
        "colab": {
          "base_uri": "https://localhost:8080/"
        },
        "id": "jm76q4FoSvcX",
        "outputId": "8c64096a-f4d1-46fa-c9e1-1e1d8fa96878"
      },
      "outputs": [
        {
          "name": "stdout",
          "output_type": "stream",
          "text": [
            "/content/data_set/val_dataset\n",
            "├── val_dataset/\n",
            "  ├── -1/\n",
            "    ├── (2307 images)\n",
            "    │   ├── Types: .jpg\n",
            "  ├── 1/\n",
            "    ├── (2693 images)\n",
            "    │   ├── Types: .jpg\n",
            "/content/train_dataset\n",
            "├── train_dataset/\n",
            "  ├── -1/\n",
            "    ├── (64115 images)\n",
            "    │   ├── Types: .jpg\n",
            "  ├── 1/\n",
            "    ├── (64115 images)\n",
            "    │   ├── Types: .jpg\n"
          ]
        }
      ],
      "source": [
        "dir_folber_val = '/content/data_set/val_dataset'\n",
        "dir_folber_train = '/content/train_dataset'\n",
        "tree_directory_images(dir_folber_val)\n",
        "tree_directory_images(dir_folber_train)"
      ]
    },
    {
      "cell_type": "code",
      "execution_count": null,
      "metadata": {
        "id": "ov9JNkFKTS89"
      },
      "outputs": [],
      "source": []
    },
    {
      "cell_type": "markdown",
      "metadata": {
        "id": "WPn35K5gTkZw"
      },
      "source": [
        "## dataset and dataloabe"
      ]
    },
    {
      "cell_type": "code",
      "execution_count": null,
      "metadata": {
        "colab": {
          "base_uri": "https://localhost:8080/"
        },
        "id": "2GRgOPIGTkZx",
        "outputId": "ea7ef922-14da-410e-d4dc-6588ef0340fe"
      },
      "outputs": [
        {
          "name": "stdout",
          "output_type": "stream",
          "text": [
            "{'-1': 0, '1': 1}\n"
          ]
        }
      ],
      "source": [
        "transform_val = transforms.Compose([\n",
        "    #transforms.RandomAffine(degrees=30, translate=(0.1, 0.1), scale=(0.8, 1.2), shear=10),\n",
        "    #transforms.ColorJitter(brightness=0.2, contrast=0.2, saturation=0.2, hue=0.1),\n",
        "    transforms.Resize((224, 224)),   # تغییر اندازه به ورودی مدل\n",
        "    transforms.ToTensor(),\n",
        "    transforms.Normalize(mean=[0.485, 0.456, 0.406], std=[0.229, 0.224, 0.225])\n",
        "])\n",
        "\n",
        "BATCH_SIZE = 2 ** 7\n",
        "# ImageFolder دو کلاس را 0 و 1 نگاشت می‌کند\n",
        "dataset_val = datasets.ImageFolder(root=dir_folber_val, transform=transform_val)\n",
        "dataloader_val = DataLoader(dataset_val, batch_size=BATCH_SIZE, shuffle=False, num_workers=4, pin_memory=True)\n",
        "print(dataset_val.class_to_idx)"
      ]
    },
    {
      "cell_type": "code",
      "execution_count": null,
      "metadata": {
        "colab": {
          "base_uri": "https://localhost:8080/"
        },
        "id": "VWtGbslETkZy",
        "outputId": "0582ba20-d288-4ba5-aac8-6352e1f0f3d2"
      },
      "outputs": [
        {
          "name": "stdout",
          "output_type": "stream",
          "text": [
            "{'-1': 0, '1': 1}\n"
          ]
        }
      ],
      "source": [
        "from torchvision import datasets, transforms\n",
        "# 4. آماده‌سازی داده‌ها\n",
        "transform = transforms.Compose([\n",
        "    transforms.RandomAffine(degrees=30, translate=(0.1, 0.1), scale=(0.8, 1.2), shear=10),\n",
        "    transforms.ColorJitter(brightness=0.2, contrast=0.2, saturation=0.2, hue=0.1),\n",
        "    transforms.Resize((224, 224)),   # تغییر اندازه به ورودی مدل\n",
        "    transforms.ToTensor(),\n",
        "    transforms.Normalize(mean=[0.485, 0.456, 0.406], std=[0.229, 0.224, 0.225])\n",
        "])\n",
        "\n",
        "\n",
        "\n",
        "\n",
        "\n",
        "\n",
        "# e.g. {'negative': 0, 'positive': 1}\n",
        "# ImageFolder دو کلاس را 0 و 1 نگاشت می‌کند\n",
        "dataset_train = datasets.ImageFolder(root=dir_folber_train, transform=transform)\n",
        "dataloader_train = DataLoader(dataset_train, batch_size=BATCH_SIZE, shuffle=True, num_workers=4, pin_memory=True)\n",
        "\n",
        "print(dataset_train.class_to_idx)"
      ]
    },
    {
      "cell_type": "markdown",
      "metadata": {
        "id": "L-YMopOPTkZy"
      },
      "source": [
        "## loss and optimazer"
      ]
    },
    {
      "cell_type": "code",
      "execution_count": null,
      "metadata": {
        "id": "2qWUha1STkZz"
      },
      "outputs": [],
      "source": [
        "# 3. تعریف تابع از دست دادن (Loss) و بهینه‌ساز\n",
        "# استفاده از BCEWithLogitsLoss که برای خروجی باینری سیگموید استفاده می‌شود\n",
        "loss_function_2_5th = nn.BCEWithLogitsLoss()  # این تابع از سیگموید به‌طور داخلی استفاده می‌کند\n",
        "optimizer_2_5th = optim.Adam(model_2_5th.parameters(), lr=0.0001)\n",
        "\n"
      ]
    },
    {
      "cell_type": "markdown",
      "metadata": {
        "id": "h4tBsCp8TkZz"
      },
      "source": [
        "## trianing\n"
      ]
    },
    {
      "cell_type": "code",
      "execution_count": null,
      "metadata": {
        "colab": {
          "base_uri": "https://localhost:8080/"
        },
        "id": "MSflCLVVTkZ0",
        "outputId": "c1ebc468-8b1d-4ef7-da30-2a364461a725"
      },
      "outputs": [
        {
          "name": "stderr",
          "output_type": "stream",
          "text": [
            "\r  0%|          | 0/5 [00:00<?, ?it/s]"
          ]
        },
        {
          "name": "stdout",
          "output_type": "stream",
          "text": [
            "epoch : 0\n",
            "number_len : 500 / 1002| train_loss: 0.3499 | train_acc: 0.8328 | test_loss: 0.3620 | test_acc: 0.8363\n",
            "number_len : 1000 / 1002| train_loss: 0.3052 | train_acc: 0.8522 | test_loss: 0.3668 | test_acc: 0.8492\n"
          ]
        },
        {
          "name": "stderr",
          "output_type": "stream",
          "text": [
            "\r 20%|██        | 1/5 [19:19<1:17:16, 1159.17s/it]"
          ]
        },
        {
          "name": "stdout",
          "output_type": "stream",
          "text": [
            "number_len : 1002 / 1002| train_loss: 0.2754 | train_acc: 0.8827 | test_loss: 0.3748 | test_acc: 0.8518\n",
            "epoch : 1\n",
            "number_len : 500 / 1002| train_loss: 0.2876 | train_acc: 0.8586 | test_loss: 0.3853 | test_acc: 0.8455\n",
            "number_len : 1000 / 1002| train_loss: 0.2778 | train_acc: 0.8652 | test_loss: 0.4073 | test_acc: 0.8371\n"
          ]
        },
        {
          "name": "stderr",
          "output_type": "stream",
          "text": [
            "\r 40%|████      | 2/5 [37:18<55:37, 1112.34s/it]  "
          ]
        },
        {
          "name": "stdout",
          "output_type": "stream",
          "text": [
            "number_len : 1002 / 1002| train_loss: 0.2727 | train_acc: 0.8660 | test_loss: 0.4043 | test_acc: 0.8303\n",
            "epoch : 2\n",
            "number_len : 500 / 1002| train_loss: 0.2676 | train_acc: 0.8685 | test_loss: 0.4206 | test_acc: 0.8338\n",
            "number_len : 1000 / 1002| train_loss: 0.2638 | train_acc: 0.8713 | test_loss: 0.3972 | test_acc: 0.8363\n"
          ]
        },
        {
          "name": "stderr",
          "output_type": "stream",
          "text": [
            "\r 60%|██████    | 3/5 [55:48<37:02, 1111.07s/it]"
          ]
        },
        {
          "name": "stdout",
          "output_type": "stream",
          "text": [
            "number_len : 1002 / 1002| train_loss: 0.2029 | train_acc: 0.8836 | test_loss: 0.4020 | test_acc: 0.8377\n",
            "epoch : 3\n",
            "number_len : 500 / 1002| train_loss: 0.2571 | train_acc: 0.8736 | test_loss: 0.4032 | test_acc: 0.8311\n",
            "number_len : 1000 / 1002| train_loss: 0.2505 | train_acc: 0.8771 | test_loss: 0.4574 | test_acc: 0.8244\n"
          ]
        },
        {
          "name": "stderr",
          "output_type": "stream",
          "text": [
            "\r 80%|████████  | 4/5 [1:15:01<18:47, 1127.82s/it]"
          ]
        },
        {
          "name": "stdout",
          "output_type": "stream",
          "text": [
            "number_len : 1002 / 1002| train_loss: 0.2894 | train_acc: 0.8592 | test_loss: 0.4551 | test_acc: 0.8252\n",
            "epoch : 4\n",
            "number_len : 500 / 1002| train_loss: 0.2457 | train_acc: 0.8812 | test_loss: 0.4712 | test_acc: 0.8186\n",
            "number_len : 1000 / 1002| train_loss: 0.2448 | train_acc: 0.8809 | test_loss: 0.4602 | test_acc: 0.8217\n"
          ]
        },
        {
          "name": "stderr",
          "output_type": "stream",
          "text": [
            "100%|██████████| 5/5 [1:34:59<00:00, 1139.82s/it]"
          ]
        },
        {
          "name": "stdout",
          "output_type": "stream",
          "text": [
            "number_len : 1002 / 1002| train_loss: 0.2381 | train_acc: 0.8611 | test_loss: 0.4650 | test_acc: 0.8225\n"
          ]
        },
        {
          "name": "stderr",
          "output_type": "stream",
          "text": [
            "\n"
          ]
        }
      ],
      "source": [
        "model_2_5th_results = train(model=model_2_5th,\n",
        "                        train_dataloader=dataloader_train,\n",
        "                        test_dataloader=dataloader_val,\n",
        "                        optimizer=optimizer_2_5th,\n",
        "                        loss_fn=loss_function_2_5th,\n",
        "                        epochs = 5\n",
        "                        , number_ep = 500 )"
      ]
    },
    {
      "cell_type": "markdown",
      "metadata": {
        "id": "lIHUM8O8TkZ1"
      },
      "source": [
        "## val model"
      ]
    },
    {
      "cell_type": "code",
      "execution_count": null,
      "metadata": {
        "colab": {
          "base_uri": "https://localhost:8080/",
          "height": 719
        },
        "id": "THPGJoYiTkZ1",
        "outputId": "5d910505-f92f-4a81-fb2c-e31f404bc671"
      },
      "outputs": [
        {
          "data": {
            "image/png": "[encoded data removed]",
            "text/plain": [
              "<Figure size 1000x700 with 1 Axes>"
            ]
          },
          "metadata": {},
          "output_type": "display_data"
        },
        {
          "data": {
            "text/plain": [
              "(0.4649882555007935, 0.8224609375)"
            ]
          },
          "execution_count": 20,
          "metadata": {},
          "output_type": "execute_result"
        }
      ],
      "source": [
        "test_step(model = model_2_5th,\n",
        "              dataloader = dataloader_val,\n",
        "              loss_fn =loss_function_2_5th,\n",
        "              show_plot_and_F1 = True )"
      ]
    },
    {
      "cell_type": "code",
      "execution_count": null,
      "metadata": {
        "colab": {
          "background_save": true
        },
        "id": "v8tyxhQhTkZ1"
      },
      "outputs": [],
      "source": [
        "plot_random_samples(model=model_2_5th,\n",
        "                    test_dataset=dataset_val,\n",
        "                    num_samples=100,\n",
        "                     show_images = 'all' # 'all' or 'TT' or 'FF' or 'FT' or 'TF' or 'all T' or 'all F'\n",
        "                    )"
      ]
    },
    {
      "cell_type": "code",
      "execution_count": null,
      "metadata": {
        "id": "fsVvk1OSTkZ2"
      },
      "outputs": [],
      "source": []
    },
    {
      "cell_type": "markdown",
      "metadata": {
        "id": "UiXj9NZ7TkZ2"
      },
      "source": [
        "## save model"
      ]
    },
    {
      "cell_type": "code",
      "execution_count": null,
      "metadata": {
        "colab": {
          "base_uri": "https://localhost:8080/"
        },
        "id": "TQUU2rWvTkZ3",
        "outputId": "f6ea62b4-025b-44d0-df3c-d308b13d8ccc"
      },
      "outputs": [
        {
          "output_type": "stream",
          "name": "stdout",
          "text": [
            "Model saved :/content/drive/MyDrive/model_2_5th.pth\n",
            "History saved : /content/drive/MyDrive/model_2_5th.csv\n"
          ]
        }
      ],
      "source": [
        "save_models_historyes(\n",
        "    model_2_5th,\n",
        "    model_2_5th_results,\n",
        "    '/content/drive/MyDrive',\n",
        "    'model_2_5th',\n",
        "    )"
      ]
    },
    {
      "cell_type": "code",
      "execution_count": null,
      "metadata": {
        "id": "j7U01ypcTNxH"
      },
      "outputs": [],
      "source": []
    }
  ]
}